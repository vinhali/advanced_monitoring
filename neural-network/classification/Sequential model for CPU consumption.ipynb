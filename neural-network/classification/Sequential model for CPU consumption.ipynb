{
 "cells": [
  {
   "cell_type": "markdown",
   "metadata": {},
   "source": [
    "# Previsão de picos de CPU"
   ]
  },
  {
   "cell_type": "markdown",
   "metadata": {},
   "source": [
    "### Carregando bibliotecas:"
   ]
  },
  {
   "cell_type": "code",
   "execution_count": 96,
   "metadata": {
    "collapsed": true
   },
   "outputs": [],
   "source": [
    "import warnings\n",
    "warnings.filterwarnings(\"ignore\")\n",
    "import operator\n",
    "import statistics\n",
    "import collections\n",
    "import pandas as pd\n",
    "import numpy as np\n",
    "import matplotlib.pyplot as plt\n",
    "from keras.initializers import VarianceScaling\n",
    "from keras.regularizers import l2\n",
    "from keras.models import Sequential\n",
    "from keras.layers import Dense\n",
    "from sklearn.model_selection import KFold"
   ]
  },
  {
   "cell_type": "markdown",
   "metadata": {},
   "source": [
    "### Selecionando dados:"
   ]
  },
  {
   "cell_type": "code",
   "execution_count": 97,
   "metadata": {
    "collapsed": true
   },
   "outputs": [],
   "source": [
    "data = pd.read_csv('/home/vinhali/Desktop/classification/data/cpu-7day.csv')"
   ]
  },
  {
   "cell_type": "code",
   "execution_count": 98,
   "metadata": {
    "collapsed": false
   },
   "outputs": [
    {
     "data": {
      "text/html": [
       "<div>\n",
       "<style scoped>\n",
       "    .dataframe tbody tr th:only-of-type {\n",
       "        vertical-align: middle;\n",
       "    }\n",
       "\n",
       "    .dataframe tbody tr th {\n",
       "        vertical-align: top;\n",
       "    }\n",
       "\n",
       "    .dataframe thead th {\n",
       "        text-align: right;\n",
       "    }\n",
       "</style>\n",
       "<table border=\"1\" class=\"dataframe\">\n",
       "  <thead>\n",
       "    <tr style=\"text-align: right;\">\n",
       "      <th></th>\n",
       "      <th>data</th>\n",
       "      <th>\"cpu\"</th>\n",
       "    </tr>\n",
       "  </thead>\n",
       "  <tbody>\n",
       "    <tr>\n",
       "      <th>0</th>\n",
       "      <td>7/11/2020 0:00</td>\n",
       "      <td>27.6</td>\n",
       "    </tr>\n",
       "    <tr>\n",
       "      <th>1</th>\n",
       "      <td>7/11/2020 0:01</td>\n",
       "      <td>0.7</td>\n",
       "    </tr>\n",
       "    <tr>\n",
       "      <th>2</th>\n",
       "      <td>7/11/2020 0:02</td>\n",
       "      <td>1.0</td>\n",
       "    </tr>\n",
       "    <tr>\n",
       "      <th>3</th>\n",
       "      <td>7/11/2020 0:03</td>\n",
       "      <td>2.7</td>\n",
       "    </tr>\n",
       "    <tr>\n",
       "      <th>4</th>\n",
       "      <td>7/11/2020 0:04</td>\n",
       "      <td>0.9</td>\n",
       "    </tr>\n",
       "    <tr>\n",
       "      <th>...</th>\n",
       "      <td>...</td>\n",
       "      <td>...</td>\n",
       "    </tr>\n",
       "    <tr>\n",
       "      <th>10075</th>\n",
       "      <td>7/17/2020 23:55</td>\n",
       "      <td>29.8</td>\n",
       "    </tr>\n",
       "    <tr>\n",
       "      <th>10076</th>\n",
       "      <td>7/17/2020 23:56</td>\n",
       "      <td>8.7</td>\n",
       "    </tr>\n",
       "    <tr>\n",
       "      <th>10077</th>\n",
       "      <td>7/17/2020 23:57</td>\n",
       "      <td>13.6</td>\n",
       "    </tr>\n",
       "    <tr>\n",
       "      <th>10078</th>\n",
       "      <td>7/17/2020 23:58</td>\n",
       "      <td>2.1</td>\n",
       "    </tr>\n",
       "    <tr>\n",
       "      <th>10079</th>\n",
       "      <td>7/17/2020 23:59</td>\n",
       "      <td>0.5</td>\n",
       "    </tr>\n",
       "  </tbody>\n",
       "</table>\n",
       "<p>10080 rows × 2 columns</p>\n",
       "</div>"
      ],
      "text/plain": [
       "                  data  \"cpu\"\n",
       "0       7/11/2020 0:00   27.6\n",
       "1       7/11/2020 0:01    0.7\n",
       "2       7/11/2020 0:02    1.0\n",
       "3       7/11/2020 0:03    2.7\n",
       "4       7/11/2020 0:04    0.9\n",
       "...                ...    ...\n",
       "10075  7/17/2020 23:55   29.8\n",
       "10076  7/17/2020 23:56    8.7\n",
       "10077  7/17/2020 23:57   13.6\n",
       "10078  7/17/2020 23:58    2.1\n",
       "10079  7/17/2020 23:59    0.5\n",
       "\n",
       "[10080 rows x 2 columns]"
      ]
     },
     "execution_count": 98,
     "metadata": {},
     "output_type": "execute_result"
    }
   ],
   "source": [
    "data"
   ]
  },
  {
   "cell_type": "markdown",
   "metadata": {},
   "source": [
    "### Funções de modelamento:"
   ]
  },
  {
   "cell_type": "markdown",
   "metadata": {},
   "source": [
    "#### Entrada da camada:\n",
    "\n",
    ">m1 = Média de 12 leituras (Em uma janela de 60 dados) - Exemplo ((2 + 5 + 7 ...) / 12\n",
    "\n",
    ">d1 = desvio padrão dos 12 dados\n",
    "\n",
    "E assim sucessivamente até formar m5, d5 (12x5 = 60)\n",
    "\n",
    "#### Saída da camada:\n",
    "\n",
    ">0-20 = Quantas vezes os valores são repetidos no intervalo de 0 a 20 nas próximas 30 leituras (Linha 61,62,62 ...)\n",
    "\n",
    "E assim sucessivamente até formar 20-40.40-60.60-80.80-100\n",
    "\n",
    "#### Transformando em 0 e 1\n",
    "\n",
    "Em seguida é selecionado a maior ocorrência de cada coluna e dividido todos os valores da respectiva coluna pela maior ocorrência, exemplo:\n",
    "\n",
    ">m1 = (Xn > Xn) / Xn"
   ]
  },
  {
   "cell_type": "code",
   "execution_count": 99,
   "metadata": {
    "collapsed": true
   },
   "outputs": [],
   "source": [
    "def histogramNeuronsInput(result):\n",
    "    \"\"\" Generates histogram of input neurons \"\"\"\n",
    "    \n",
    "    fig, ax = plt.subplots(figsize=(8,4))\n",
    "    for i in range(len(result)):\n",
    "        data = np.array(result[i])\n",
    "        x=np.arange(len(data)) + i*6\n",
    "        # draw averages\n",
    "        ax.bar(x-0.2, data[:,0], color='C0', width=0.4)\n",
    "        # draw std\n",
    "        ax.bar(x+0.2, data[:,1], color='C1', width=0.4)\n",
    "    # turn off xticks\n",
    "    ax.set_xticks([])\n",
    "    ax.legend(labels=['Average', 'Standard deviation'])\n",
    "    leg = ax.get_legend()\n",
    "    leg.legendHandles[0].set_color('C0')\n",
    "    leg.legendHandles[1].set_color('C1')\n",
    "    plt.ylabel('Consume')\n",
    "    plt.xlabel('Number of elements (Every 5 is a new block)')\n",
    "\n",
    "    return plt.show()\n",
    "\n",
    "def histogramNeuronsOutput(result):\n",
    "    \"\"\" Generates histogram of output neurons \"\"\"\n",
    "    \n",
    "    colors = ['blue', 'green', 'yellow', 'orange', 'red']\n",
    "    labels = ['0-20', '20-40', '40-60', '60-80', '80-100']\n",
    "    fig, ax = plt.subplots(figsize=(10, 6))\n",
    "    for i, data in enumerate(result):\n",
    "        x = np.arange(len(data)) + i*6\n",
    "        bars = ax.bar(x, data, color=colors, width=0.4)\n",
    "        if i == 0:\n",
    "            for bar, label in zip(bars, labels):\n",
    "                bar.set_label(label)\n",
    "    ax.set_xticks([])\n",
    "    ax.legend()\n",
    "    ax.set_title(\"Histogram\")\n",
    "    ax.set_ylabel('Consume')\n",
    "    ax.set_xlabel('Percent')\n",
    "    \n",
    "    return plt.show()\n",
    "\n",
    "def standardDeviation(data):\n",
    "    \"\"\" Calculates standard deviation \"\"\"\n",
    "    \n",
    "    return statistics.stdev(data)\n",
    "       \n",
    "def average(data):\n",
    "    \"\"\" Calculates average \"\"\"\n",
    "    \n",
    "    return statistics.mean(data)\n",
    "\n",
    "def captureOcurrences(elements, n):\n",
    "    \"\"\" Capture an X number of elements within a list \"\"\"\n",
    "    \n",
    "    return [elements[i: i+n] for i in range(0, len(elements), n)]\n",
    "\n",
    "def neuronsInput(elements):\n",
    "    \"\"\" Generates input neuron modeling (5 averages, 5 standard deviations - Between 12 occurrences in a window of 60 readings) \"\"\"\n",
    "    \n",
    "    result = []\n",
    "    temp = []\n",
    "    start = 0\n",
    "    limit = 60\n",
    "    size = int(len(elements))\n",
    "    TargetDivision = int(size / 30)\n",
    "    repetitions = 0\n",
    "    five = 0\n",
    "\n",
    "    while repetitions < TargetDivision:\n",
    "        temp = []\n",
    "\n",
    "        five += 1\n",
    "        ocurrences = captureOcurrences(elements[start: limit],12)\n",
    "        for i in ocurrences:\n",
    "            m = average(i)\n",
    "            sd = standardDeviation(i)\n",
    "            temp.append([m,sd])\n",
    "\n",
    "        result.append(temp)\n",
    "\n",
    "        repetitions += 1\n",
    "        limit += 10\n",
    "        start += 10\n",
    "\n",
    "    return result\n",
    "\n",
    "def neuronsOutput(elements):\n",
    "    \"\"\" Generates output neuron modeling (Histogram of the next 30 data readings) \"\"\"\n",
    "    \n",
    "    result = []\n",
    "    start = 61\n",
    "    limit = 90\n",
    "    size = int(len(elements))\n",
    "    TargetDivision = int(size / 30)\n",
    "    repetitions = 0\n",
    "\n",
    "    while repetitions < TargetDivision:\n",
    "\n",
    "        counter=collections.Counter(elements[start: limit])\n",
    "        \n",
    "        consumption0_20 = 0\n",
    "        consumption20_40 = 0\n",
    "        consumption40_60 = 0\n",
    "        consumption60_80 = 0\n",
    "        consumption80_100 = 0\n",
    "        for key in counter:\n",
    "            if key <= 20:\n",
    "                consumption0_20 += int(counter[key])\n",
    "            elif key > 20 and key < 40:\n",
    "                consumption20_40 += int(counter[key])\n",
    "            elif key > 40 and key < 60:\n",
    "                consumption40_60 += int(counter[key])\n",
    "            elif key > 60 and key < 80:\n",
    "                consumption60_80 += int(counter[key])\n",
    "            elif key > 80 and key < 100:\n",
    "                consumption80_100 += int(counter[key])\n",
    "\n",
    "        result.append([consumption0_20,consumption20_40,consumption40_60,consumption60_80,consumption80_100])\n",
    "\n",
    "        repetitions += 1\n",
    "        limit += 10\n",
    "        start += 10\n",
    "\n",
    "    return result\n",
    "\n",
    "def binaryInput(data):\n",
    "    \"\"\" I divided the values ​​of each column by the highest occurrence in the column \"\"\"\n",
    "    \n",
    "    max_average = 0\n",
    "    max_deviation = 0\n",
    "    for j in range(len(data[0])):\n",
    "        for i in range(len(data)):\n",
    "            if data[i][j][0] > max_average:\n",
    "                max_average = data[i][j][0]\n",
    "            if data[i][j][1] > max_deviation:\n",
    "                max_deviation = data[i][j][1]\n",
    "        for p in range(len(data)):\n",
    "            if max_average != 0:\n",
    "                data[p][j][0] = round(data[p][j][0] / max_average, 3)\n",
    "            if max_deviation != 0:\n",
    "                data[p][j][1]  = round(data[p][j][1] / max_deviation, 3)\n",
    "        max_average = 0\n",
    "        max_deviation = 0\n",
    "        \n",
    "    return data\n",
    "\n",
    "def binaryOutput(data):\n",
    "    \"\"\" I divided the values ​​of each column by the highest occurrence in the column \"\"\"\n",
    "    \n",
    "    max_consume = 0\n",
    "    reverse = []\n",
    "    for j in range(len(data[0])):\n",
    "        for i in range(len(data)):\n",
    "            if data[i][j] > max_consume:\n",
    "                max_consume = data[i][j]\n",
    "        for p in range(len(data)):\n",
    "            if max_consume != 0:\n",
    "                data[p][j] = round(data[p][j] / max_consume, 3)\n",
    "\n",
    "            reverse.append(max_consume)\n",
    "        max_consume = 0\n",
    "        \n",
    "    return data, reverse\n",
    "\n",
    "def conversionDataframe(dataNeuronInput,dataNeuronOutput):\n",
    "    \"\"\" Converts data to a dataframe pandas \"\"\"\n",
    "    \n",
    "    ni = pd.DataFrame(data= dataNeuronInput)\n",
    "    ni.columns = ['m1,d1', 'm2,d2', 'm3,d3', 'm4,d4', 'm5,d5']\n",
    "    no = pd.DataFrame(data= dataNeuronOutput)\n",
    "    no.columns = ['0-20', '20-40', '40-60', '60-80', '80-100']\n",
    "\n",
    "    return pd.concat([ni, no], axis=1)\n",
    "\n",
    "def modeling(data):\n",
    "    \"\"\" Generates the initial model for training the neural network \"\"\"\n",
    "    \n",
    "    readings = data.iloc[:, 1].values\n",
    "    dataNeuronInput = neuronsInput(readings)\n",
    "    dataNeuronOutput = neuronsOutput(readings)\n",
    "    dataFrameNoBinary = conversionDataframe(dataNeuronInput, dataNeuronOutput)\n",
    "    binaryNeuronInput = binaryInput(dataNeuronInput)\n",
    "    binaryNeuronOutput, reverseNeuronOutput = binaryOutput(dataNeuronOutput)\n",
    "    dataFrameBinary = conversionDataframe(binaryNeuronInput, binaryNeuronOutput)\n",
    "\n",
    "    return dataFrameBinary, np.asarray(captureOcurrences(reverseNeuronOutput,5), dtype=np.float32)"
   ]
  },
  {
   "cell_type": "markdown",
   "metadata": {},
   "source": [
    "### Histograma: Médias versus Desvio padrão em janelas de 60 leituras"
   ]
  },
  {
   "cell_type": "markdown",
   "metadata": {},
   "source": [
    "*Antes da divisão pela maior ocorrência de cada critério*"
   ]
  },
  {
   "cell_type": "code",
   "execution_count": 100,
   "metadata": {
    "collapsed": false
   },
   "outputs": [
    {
     "data": {
      "image/png": "[encoded data removed]",
      "text/plain": [
       "<Figure size 576x288 with 1 Axes>"
      ]
     },
     "metadata": {
      "needs_background": "light"
     },
     "output_type": "display_data"
    }
   ],
   "source": [
    "readings = data.iloc[:, 1].values\n",
    "dataNeuronInput = neuronsInput(readings)\n",
    "histogramNeuronsInput(dataNeuronInput)"
   ]
  },
  {
   "cell_type": "markdown",
   "metadata": {},
   "source": [
    "### Picos de consumo de CPU nas próximas 30 leituras das janelas de 60"
   ]
  },
  {
   "cell_type": "code",
   "execution_count": 101,
   "metadata": {
    "collapsed": false
   },
   "outputs": [
    {
     "data": {
      "image/png": "[encoded data removed]",
      "text/plain": [
       "<Figure size 720x432 with 1 Axes>"
      ]
     },
     "metadata": {
      "needs_background": "light"
     },
     "output_type": "display_data"
    }
   ],
   "source": [
    "dataNeuronOutput = neuronsOutput(readings)\n",
    "histogramNeuronsOutput(dataNeuronOutput)"
   ]
  },
  {
   "cell_type": "markdown",
   "metadata": {},
   "source": [
    "### Transformando X e Y em uma matriz 1D"
   ]
  },
  {
   "cell_type": "code",
   "execution_count": 102,
   "metadata": {
    "collapsed": true
   },
   "outputs": [],
   "source": [
    "df, reverse = modeling(data)\n",
    "\n",
    "X = np.array(df['m1,d1'].values.tolist())\n",
    "X = np.append(X, np.array(df['m2,d2'].values.tolist()), axis = 1)\n",
    "X = np.append(X, np.array(df['m3,d3'].values.tolist()), axis = 1)\n",
    "X = np.append(X, np.array(df['m4,d4'].values.tolist()), axis = 1)\n",
    "X = np.append(X, np.array(df['m5,d5'].values.tolist()), axis = 1)\n",
    "\n",
    "Y = []\n",
    "Y.append(np.asarray(df['0-20'], dtype=np.float32))\n",
    "Y.append(np.asarray(df['20-40'], dtype=np.float32))\n",
    "Y.append(np.asarray(df['40-60'], dtype=np.float32))\n",
    "Y.append(np.asarray(df['60-80'], dtype=np.float32))\n",
    "Y.append(np.asarray(df['80-100'], dtype=np.float32))\n",
    "Y = np.transpose(np.asarray(Y))"
   ]
  },
  {
   "cell_type": "markdown",
   "metadata": {},
   "source": [
    "### Visualizando X:"
   ]
  },
  {
   "cell_type": "code",
   "execution_count": 103,
   "metadata": {
    "collapsed": false
   },
   "outputs": [
    {
     "data": {
      "text/html": [
       "<div>\n",
       "<style scoped>\n",
       "    .dataframe tbody tr th:only-of-type {\n",
       "        vertical-align: middle;\n",
       "    }\n",
       "\n",
       "    .dataframe tbody tr th {\n",
       "        vertical-align: top;\n",
       "    }\n",
       "\n",
       "    .dataframe thead th {\n",
       "        text-align: right;\n",
       "    }\n",
       "</style>\n",
       "<table border=\"1\" class=\"dataframe\">\n",
       "  <thead>\n",
       "    <tr style=\"text-align: right;\">\n",
       "      <th></th>\n",
       "      <th>0</th>\n",
       "      <th>1</th>\n",
       "      <th>2</th>\n",
       "      <th>3</th>\n",
       "      <th>4</th>\n",
       "      <th>5</th>\n",
       "      <th>6</th>\n",
       "      <th>7</th>\n",
       "      <th>8</th>\n",
       "      <th>9</th>\n",
       "    </tr>\n",
       "  </thead>\n",
       "  <tbody>\n",
       "    <tr>\n",
       "      <th>0</th>\n",
       "      <td>0.282</td>\n",
       "      <td>0.271</td>\n",
       "      <td>0.267</td>\n",
       "      <td>0.121</td>\n",
       "      <td>0.457</td>\n",
       "      <td>0.314</td>\n",
       "      <td>0.134</td>\n",
       "      <td>0.046</td>\n",
       "      <td>0.423</td>\n",
       "      <td>0.402</td>\n",
       "    </tr>\n",
       "    <tr>\n",
       "      <th>1</th>\n",
       "      <td>0.274</td>\n",
       "      <td>0.147</td>\n",
       "      <td>0.460</td>\n",
       "      <td>0.314</td>\n",
       "      <td>0.165</td>\n",
       "      <td>0.067</td>\n",
       "      <td>0.362</td>\n",
       "      <td>0.400</td>\n",
       "      <td>0.418</td>\n",
       "      <td>0.421</td>\n",
       "    </tr>\n",
       "    <tr>\n",
       "      <th>2</th>\n",
       "      <td>0.409</td>\n",
       "      <td>0.302</td>\n",
       "      <td>0.174</td>\n",
       "      <td>0.065</td>\n",
       "      <td>0.328</td>\n",
       "      <td>0.399</td>\n",
       "      <td>0.375</td>\n",
       "      <td>0.416</td>\n",
       "      <td>0.225</td>\n",
       "      <td>0.093</td>\n",
       "    </tr>\n",
       "    <tr>\n",
       "      <th>3</th>\n",
       "      <td>0.168</td>\n",
       "      <td>0.073</td>\n",
       "      <td>0.126</td>\n",
       "      <td>0.044</td>\n",
       "      <td>0.550</td>\n",
       "      <td>0.544</td>\n",
       "      <td>0.193</td>\n",
       "      <td>0.093</td>\n",
       "      <td>0.599</td>\n",
       "      <td>0.426</td>\n",
       "    </tr>\n",
       "    <tr>\n",
       "      <th>4</th>\n",
       "      <td>0.113</td>\n",
       "      <td>0.046</td>\n",
       "      <td>0.564</td>\n",
       "      <td>0.542</td>\n",
       "      <td>0.184</td>\n",
       "      <td>0.091</td>\n",
       "      <td>0.405</td>\n",
       "      <td>0.419</td>\n",
       "      <td>0.570</td>\n",
       "      <td>0.200</td>\n",
       "    </tr>\n",
       "    <tr>\n",
       "      <th>...</th>\n",
       "      <td>...</td>\n",
       "      <td>...</td>\n",
       "      <td>...</td>\n",
       "      <td>...</td>\n",
       "      <td>...</td>\n",
       "      <td>...</td>\n",
       "      <td>...</td>\n",
       "      <td>...</td>\n",
       "      <td>...</td>\n",
       "      <td>...</td>\n",
       "    </tr>\n",
       "    <tr>\n",
       "      <th>331</th>\n",
       "      <td>0.156</td>\n",
       "      <td>0.101</td>\n",
       "      <td>0.393</td>\n",
       "      <td>0.282</td>\n",
       "      <td>0.139</td>\n",
       "      <td>0.074</td>\n",
       "      <td>0.377</td>\n",
       "      <td>0.272</td>\n",
       "      <td>0.245</td>\n",
       "      <td>0.128</td>\n",
       "    </tr>\n",
       "    <tr>\n",
       "      <th>332</th>\n",
       "      <td>0.367</td>\n",
       "      <td>0.272</td>\n",
       "      <td>0.140</td>\n",
       "      <td>0.075</td>\n",
       "      <td>0.343</td>\n",
       "      <td>0.269</td>\n",
       "      <td>0.182</td>\n",
       "      <td>0.118</td>\n",
       "      <td>0.213</td>\n",
       "      <td>0.089</td>\n",
       "    </tr>\n",
       "    <tr>\n",
       "      <th>333</th>\n",
       "      <td>0.168</td>\n",
       "      <td>0.142</td>\n",
       "      <td>0.201</td>\n",
       "      <td>0.121</td>\n",
       "      <td>0.331</td>\n",
       "      <td>0.268</td>\n",
       "      <td>0.163</td>\n",
       "      <td>0.087</td>\n",
       "      <td>0.315</td>\n",
       "      <td>0.247</td>\n",
       "    </tr>\n",
       "    <tr>\n",
       "      <th>334</th>\n",
       "      <td>0.187</td>\n",
       "      <td>0.123</td>\n",
       "      <td>0.344</td>\n",
       "      <td>0.266</td>\n",
       "      <td>0.154</td>\n",
       "      <td>0.085</td>\n",
       "      <td>0.269</td>\n",
       "      <td>0.246</td>\n",
       "      <td>0.379</td>\n",
       "      <td>0.314</td>\n",
       "    </tr>\n",
       "    <tr>\n",
       "      <th>335</th>\n",
       "      <td>0.301</td>\n",
       "      <td>0.260</td>\n",
       "      <td>0.144</td>\n",
       "      <td>0.083</td>\n",
       "      <td>0.280</td>\n",
       "      <td>0.240</td>\n",
       "      <td>0.314</td>\n",
       "      <td>0.313</td>\n",
       "      <td>0.206</td>\n",
       "      <td>0.111</td>\n",
       "    </tr>\n",
       "  </tbody>\n",
       "</table>\n",
       "<p>336 rows × 10 columns</p>\n",
       "</div>"
      ],
      "text/plain": [
       "         0      1      2      3      4      5      6      7      8      9\n",
       "0    0.282  0.271  0.267  0.121  0.457  0.314  0.134  0.046  0.423  0.402\n",
       "1    0.274  0.147  0.460  0.314  0.165  0.067  0.362  0.400  0.418  0.421\n",
       "2    0.409  0.302  0.174  0.065  0.328  0.399  0.375  0.416  0.225  0.093\n",
       "3    0.168  0.073  0.126  0.044  0.550  0.544  0.193  0.093  0.599  0.426\n",
       "4    0.113  0.046  0.564  0.542  0.184  0.091  0.405  0.419  0.570  0.200\n",
       "..     ...    ...    ...    ...    ...    ...    ...    ...    ...    ...\n",
       "331  0.156  0.101  0.393  0.282  0.139  0.074  0.377  0.272  0.245  0.128\n",
       "332  0.367  0.272  0.140  0.075  0.343  0.269  0.182  0.118  0.213  0.089\n",
       "333  0.168  0.142  0.201  0.121  0.331  0.268  0.163  0.087  0.315  0.247\n",
       "334  0.187  0.123  0.344  0.266  0.154  0.085  0.269  0.246  0.379  0.314\n",
       "335  0.301  0.260  0.144  0.083  0.280  0.240  0.314  0.313  0.206  0.111\n",
       "\n",
       "[336 rows x 10 columns]"
      ]
     },
     "execution_count": 103,
     "metadata": {},
     "output_type": "execute_result"
    }
   ],
   "source": [
    "pd.DataFrame(np.array(X))"
   ]
  },
  {
   "cell_type": "markdown",
   "metadata": {},
   "source": [
    "### Visualizando Y:"
   ]
  },
  {
   "cell_type": "code",
   "execution_count": 104,
   "metadata": {
    "collapsed": false
   },
   "outputs": [
    {
     "data": {
      "text/html": [
       "<div>\n",
       "<style scoped>\n",
       "    .dataframe tbody tr th:only-of-type {\n",
       "        vertical-align: middle;\n",
       "    }\n",
       "\n",
       "    .dataframe tbody tr th {\n",
       "        vertical-align: top;\n",
       "    }\n",
       "\n",
       "    .dataframe thead th {\n",
       "        text-align: right;\n",
       "    }\n",
       "</style>\n",
       "<table border=\"1\" class=\"dataframe\">\n",
       "  <thead>\n",
       "    <tr style=\"text-align: right;\">\n",
       "      <th></th>\n",
       "      <th>0</th>\n",
       "      <th>1</th>\n",
       "      <th>2</th>\n",
       "      <th>3</th>\n",
       "      <th>4</th>\n",
       "    </tr>\n",
       "  </thead>\n",
       "  <tbody>\n",
       "    <tr>\n",
       "      <th>0</th>\n",
       "      <td>0.966</td>\n",
       "      <td>0.0</td>\n",
       "      <td>0.5</td>\n",
       "      <td>0.0</td>\n",
       "      <td>0.0</td>\n",
       "    </tr>\n",
       "    <tr>\n",
       "      <th>1</th>\n",
       "      <td>0.966</td>\n",
       "      <td>0.0</td>\n",
       "      <td>0.5</td>\n",
       "      <td>0.0</td>\n",
       "      <td>0.0</td>\n",
       "    </tr>\n",
       "    <tr>\n",
       "      <th>2</th>\n",
       "      <td>0.966</td>\n",
       "      <td>0.0</td>\n",
       "      <td>0.5</td>\n",
       "      <td>0.0</td>\n",
       "      <td>0.0</td>\n",
       "    </tr>\n",
       "    <tr>\n",
       "      <th>3</th>\n",
       "      <td>0.966</td>\n",
       "      <td>0.2</td>\n",
       "      <td>0.0</td>\n",
       "      <td>0.0</td>\n",
       "      <td>0.0</td>\n",
       "    </tr>\n",
       "    <tr>\n",
       "      <th>4</th>\n",
       "      <td>0.966</td>\n",
       "      <td>0.2</td>\n",
       "      <td>0.0</td>\n",
       "      <td>0.0</td>\n",
       "      <td>0.0</td>\n",
       "    </tr>\n",
       "    <tr>\n",
       "      <th>...</th>\n",
       "      <td>...</td>\n",
       "      <td>...</td>\n",
       "      <td>...</td>\n",
       "      <td>...</td>\n",
       "      <td>...</td>\n",
       "    </tr>\n",
       "    <tr>\n",
       "      <th>331</th>\n",
       "      <td>0.931</td>\n",
       "      <td>0.4</td>\n",
       "      <td>0.0</td>\n",
       "      <td>0.0</td>\n",
       "      <td>0.0</td>\n",
       "    </tr>\n",
       "    <tr>\n",
       "      <th>332</th>\n",
       "      <td>0.931</td>\n",
       "      <td>0.4</td>\n",
       "      <td>0.0</td>\n",
       "      <td>0.0</td>\n",
       "      <td>0.0</td>\n",
       "    </tr>\n",
       "    <tr>\n",
       "      <th>333</th>\n",
       "      <td>0.931</td>\n",
       "      <td>0.4</td>\n",
       "      <td>0.0</td>\n",
       "      <td>0.0</td>\n",
       "      <td>0.0</td>\n",
       "    </tr>\n",
       "    <tr>\n",
       "      <th>334</th>\n",
       "      <td>0.966</td>\n",
       "      <td>0.2</td>\n",
       "      <td>0.0</td>\n",
       "      <td>0.0</td>\n",
       "      <td>0.0</td>\n",
       "    </tr>\n",
       "    <tr>\n",
       "      <th>335</th>\n",
       "      <td>0.966</td>\n",
       "      <td>0.2</td>\n",
       "      <td>0.0</td>\n",
       "      <td>0.0</td>\n",
       "      <td>0.0</td>\n",
       "    </tr>\n",
       "  </tbody>\n",
       "</table>\n",
       "<p>336 rows × 5 columns</p>\n",
       "</div>"
      ],
      "text/plain": [
       "         0    1    2    3    4\n",
       "0    0.966  0.0  0.5  0.0  0.0\n",
       "1    0.966  0.0  0.5  0.0  0.0\n",
       "2    0.966  0.0  0.5  0.0  0.0\n",
       "3    0.966  0.2  0.0  0.0  0.0\n",
       "4    0.966  0.2  0.0  0.0  0.0\n",
       "..     ...  ...  ...  ...  ...\n",
       "331  0.931  0.4  0.0  0.0  0.0\n",
       "332  0.931  0.4  0.0  0.0  0.0\n",
       "333  0.931  0.4  0.0  0.0  0.0\n",
       "334  0.966  0.2  0.0  0.0  0.0\n",
       "335  0.966  0.2  0.0  0.0  0.0\n",
       "\n",
       "[336 rows x 5 columns]"
      ]
     },
     "execution_count": 104,
     "metadata": {},
     "output_type": "execute_result"
    }
   ],
   "source": [
    "pd.DataFrame(np.array(Y))"
   ]
  },
  {
   "cell_type": "code",
   "execution_count": 105,
   "metadata": {
    "collapsed": false
   },
   "outputs": [
    {
     "data": {
      "text/plain": [
       "((336, 10), (336, 5))"
      ]
     },
     "execution_count": 105,
     "metadata": {},
     "output_type": "execute_result"
    }
   ],
   "source": [
    "X.shape, Y.shape"
   ]
  },
  {
   "cell_type": "markdown",
   "metadata": {},
   "source": [
    "### Modelo de aprendizado profundo:"
   ]
  },
  {
   "cell_type": "markdown",
   "metadata": {},
   "source": [
    "*Descrição do modelo*\n",
    "\n",
    ">kernel_regularizer = Regularizador de peso da camada\n",
    "\n",
    ">kernel_initializer = Inicialização da camada\n",
    "\n",
    ">model.compile = Compilamento do modelo \n",
    "\n",
    ">model.fit = Treinamento do modelo\n",
    "\n",
    ">model.evaluate = Avaliação do modelo"
   ]
  },
  {
   "cell_type": "markdown",
   "metadata": {},
   "source": [
    "### Preparando cross validation k=5"
   ]
  },
  {
   "cell_type": "code",
   "execution_count": 125,
   "metadata": {
    "collapsed": true
   },
   "outputs": [],
   "source": [
    "kfold = KFold(5, False, 1)"
   ]
  },
  {
   "cell_type": "code",
   "execution_count": 126,
   "metadata": {
    "collapsed": false
   },
   "outputs": [
    {
     "name": "stdout",
     "output_type": "stream",
     "text": [
      "mse: 1.25%\n",
      "mse: 2.22%\n",
      "mse: 1.99%\n",
      "mse: 2.40%\n",
      "mse: 0.60%\n"
     ]
    }
   ],
   "source": [
    "for train, test in kfold.split(X,Y):\n",
    "\n",
    "    model = Sequential()\n",
    "    model.add(Dense(10,\n",
    "                kernel_regularizer=l2(0.001),\n",
    "                kernel_initializer=VarianceScaling(), \n",
    "                activation='sigmoid',\n",
    "                name='hidden-input'))\n",
    "    model.add(Dense(5, \n",
    "                kernel_regularizer=l2(0.001),\n",
    "                kernel_initializer=VarianceScaling(),                 \n",
    "                activation='sigmoid',\n",
    "                name='output'))\n",
    "    \n",
    "    model.compile(loss='mse', optimizer='adam', metrics=['mse'])\n",
    "    \n",
    "    model.fit(X[train], Y[train], epochs=50, batch_size=5, verbose = 0,\n",
    "              validation_data=(X[test], Y[test]))\n",
    "\n",
    "    scores = model.evaluate(X[test], Y[test], verbose=0)\n",
    "    print(\"%s: %.2f%%\" % (model.metrics_names[1], scores[1]*100))\n",
    "    cvscores.append(scores[1] * 100)"
   ]
  },
  {
   "cell_type": "code",
   "execution_count": 127,
   "metadata": {
    "collapsed": false
   },
   "outputs": [
    {
     "name": "stdout",
     "output_type": "stream",
     "text": [
      "55.88% (+/- 47.61%)\n"
     ]
    }
   ],
   "source": [
    "print(\"%.2f%% (+/- %.2f%%)\" % (np.mean(cvscores), np.std(cvscores)))"
   ]
  },
  {
   "cell_type": "code",
   "execution_count": 128,
   "metadata": {
    "collapsed": false
   },
   "outputs": [
    {
     "name": "stdout",
     "output_type": "stream",
     "text": [
      "Model: \"sequential_45\"\n",
      "_________________________________________________________________\n",
      "Layer (type)                 Output Shape              Param #   \n",
      "=================================================================\n",
      "hidden-input (Dense)         multiple                  110       \n",
      "_________________________________________________________________\n",
      "output (Dense)               multiple                  55        \n",
      "=================================================================\n",
      "Total params: 165\n",
      "Trainable params: 165\n",
      "Non-trainable params: 0\n",
      "_________________________________________________________________\n"
     ]
    }
   ],
   "source": [
    "model.summary()"
   ]
  },
  {
   "cell_type": "code",
   "execution_count": 135,
   "metadata": {
    "collapsed": false
   },
   "outputs": [],
   "source": [
    "y = model.predict(X)"
   ]
  },
  {
   "cell_type": "code",
   "execution_count": 136,
   "metadata": {
    "collapsed": true
   },
   "outputs": [],
   "source": [
    "multiple = []\n",
    "for i,j in zip(y,reverse):\n",
    "    multiple.append([i[0] * j[0], i[1] * j[1], i[2] * j[2], i[3] * j[3],  i[4] * j[4]])\n",
    "    \n",
    "result = pd.DataFrame(np.array(multiple))"
   ]
  },
  {
   "cell_type": "code",
   "execution_count": 137,
   "metadata": {
    "collapsed": false
   },
   "outputs": [
    {
     "data": {
      "text/html": [
       "<div>\n",
       "<style scoped>\n",
       "    .dataframe tbody tr th:only-of-type {\n",
       "        vertical-align: middle;\n",
       "    }\n",
       "\n",
       "    .dataframe tbody tr th {\n",
       "        vertical-align: top;\n",
       "    }\n",
       "\n",
       "    .dataframe thead th {\n",
       "        text-align: right;\n",
       "    }\n",
       "</style>\n",
       "<table border=\"1\" class=\"dataframe\">\n",
       "  <thead>\n",
       "    <tr style=\"text-align: right;\">\n",
       "      <th></th>\n",
       "      <th>0</th>\n",
       "      <th>1</th>\n",
       "      <th>2</th>\n",
       "      <th>3</th>\n",
       "      <th>4</th>\n",
       "    </tr>\n",
       "  </thead>\n",
       "  <tbody>\n",
       "    <tr>\n",
       "      <th>0</th>\n",
       "      <td>26.980782</td>\n",
       "      <td>7.045403</td>\n",
       "      <td>1.701835</td>\n",
       "      <td>1.350444</td>\n",
       "      <td>1.540315</td>\n",
       "    </tr>\n",
       "    <tr>\n",
       "      <th>1</th>\n",
       "      <td>26.977888</td>\n",
       "      <td>7.053019</td>\n",
       "      <td>1.704687</td>\n",
       "      <td>1.353075</td>\n",
       "      <td>1.543081</td>\n",
       "    </tr>\n",
       "    <tr>\n",
       "      <th>2</th>\n",
       "      <td>26.980654</td>\n",
       "      <td>7.045393</td>\n",
       "      <td>1.701844</td>\n",
       "      <td>1.350485</td>\n",
       "      <td>1.540493</td>\n",
       "    </tr>\n",
       "    <tr>\n",
       "      <th>3</th>\n",
       "      <td>26.983269</td>\n",
       "      <td>7.045926</td>\n",
       "      <td>1.699753</td>\n",
       "      <td>1.348974</td>\n",
       "      <td>1.538294</td>\n",
       "    </tr>\n",
       "    <tr>\n",
       "      <th>4</th>\n",
       "      <td>26.977839</td>\n",
       "      <td>7.057038</td>\n",
       "      <td>1.704918</td>\n",
       "      <td>1.353578</td>\n",
       "      <td>1.543351</td>\n",
       "    </tr>\n",
       "    <tr>\n",
       "      <th>...</th>\n",
       "      <td>...</td>\n",
       "      <td>...</td>\n",
       "      <td>...</td>\n",
       "      <td>...</td>\n",
       "      <td>...</td>\n",
       "    </tr>\n",
       "    <tr>\n",
       "      <th>331</th>\n",
       "      <td>0.930117</td>\n",
       "      <td>0.243035</td>\n",
       "      <td>0.058903</td>\n",
       "      <td>0.046735</td>\n",
       "      <td>0.053329</td>\n",
       "    </tr>\n",
       "    <tr>\n",
       "      <th>332</th>\n",
       "      <td>0.930229</td>\n",
       "      <td>0.242808</td>\n",
       "      <td>0.058796</td>\n",
       "      <td>0.046641</td>\n",
       "      <td>0.053227</td>\n",
       "    </tr>\n",
       "    <tr>\n",
       "      <th>333</th>\n",
       "      <td>0.930226</td>\n",
       "      <td>0.242815</td>\n",
       "      <td>0.058801</td>\n",
       "      <td>0.046644</td>\n",
       "      <td>0.053228</td>\n",
       "    </tr>\n",
       "    <tr>\n",
       "      <th>334</th>\n",
       "      <td>0.930184</td>\n",
       "      <td>0.243014</td>\n",
       "      <td>0.058847</td>\n",
       "      <td>0.046692</td>\n",
       "      <td>0.053272</td>\n",
       "    </tr>\n",
       "    <tr>\n",
       "      <th>335</th>\n",
       "      <td>0.930238</td>\n",
       "      <td>0.242869</td>\n",
       "      <td>0.058791</td>\n",
       "      <td>0.046641</td>\n",
       "      <td>0.053222</td>\n",
       "    </tr>\n",
       "  </tbody>\n",
       "</table>\n",
       "<p>336 rows × 5 columns</p>\n",
       "</div>"
      ],
      "text/plain": [
       "             0         1         2         3         4\n",
       "0    26.980782  7.045403  1.701835  1.350444  1.540315\n",
       "1    26.977888  7.053019  1.704687  1.353075  1.543081\n",
       "2    26.980654  7.045393  1.701844  1.350485  1.540493\n",
       "3    26.983269  7.045926  1.699753  1.348974  1.538294\n",
       "4    26.977839  7.057038  1.704918  1.353578  1.543351\n",
       "..         ...       ...       ...       ...       ...\n",
       "331   0.930117  0.243035  0.058903  0.046735  0.053329\n",
       "332   0.930229  0.242808  0.058796  0.046641  0.053227\n",
       "333   0.930226  0.242815  0.058801  0.046644  0.053228\n",
       "334   0.930184  0.243014  0.058847  0.046692  0.053272\n",
       "335   0.930238  0.242869  0.058791  0.046641  0.053222\n",
       "\n",
       "[336 rows x 5 columns]"
      ]
     },
     "execution_count": 137,
     "metadata": {},
     "output_type": "execute_result"
    }
   ],
   "source": [
    "pd.DataFrame(result)"
   ]
  }
 ],
 "metadata": {
  "kernelspec": {
   "display_name": "Python 3.7.6 64-bit ('anaconda3': virtualenv)",
   "language": "python",
   "name": "python37664bitanaconda3virtualenv256d40855ccc4887b33c363ac923fe2f"
  },
  "language_info": {
   "codemirror_mode": {
    "name": "ipython",
    "version": 3
   },
   "file_extension": ".py",
   "mimetype": "text/x-python",
   "name": "python",
   "nbconvert_exporter": "python",
   "pygments_lexer": "ipython3",
   "version": "3.7.6"
  }
 },
 "nbformat": 4,
 "nbformat_minor": 4
}
