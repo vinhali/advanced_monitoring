{
 "cells": [
  {
   "cell_type": "markdown",
   "metadata": {},
   "source": [
    "## Conversion of a CPU consumption time series into means and standard deviation to calculate the next peak occurrences using a neural network"
   ]
  },
  {
   "cell_type": "markdown",
   "metadata": {},
   "source": [
    "### Imports"
   ]
  },
  {
   "cell_type": "code",
   "execution_count": 22,
   "metadata": {},
   "outputs": [],
   "source": [
    "import warnings\n",
    "warnings.filterwarnings(\"ignore\")\n",
    "import pandas as pd\n",
    "import numpy as np\n",
    "import matplotlib.pyplot as plt\n",
    "from keras.initializers import VarianceScaling\n",
    "from keras.regularizers import l2\n",
    "from keras.models import Sequential\n",
    "from keras.layers import Dense\n",
    "from sklearn.model_selection import KFold\n",
    "from sklearn.metrics import cohen_kappa_score"
   ]
  },
  {
   "cell_type": "markdown",
   "metadata": {},
   "source": [
    "### Read the data"
   ]
  },
  {
   "cell_type": "code",
   "execution_count": 23,
   "metadata": {},
   "outputs": [],
   "source": [
    "df = pd.read_csv('../data/cpu-7day.csv')\n",
    "data = df.iloc[:, 1].values"
   ]
  },
  {
   "cell_type": "code",
   "execution_count": 24,
   "metadata": {},
   "outputs": [
    {
     "data": {
      "text/html": [
       "<div>\n",
       "<style scoped>\n",
       "    .dataframe tbody tr th:only-of-type {\n",
       "        vertical-align: middle;\n",
       "    }\n",
       "\n",
       "    .dataframe tbody tr th {\n",
       "        vertical-align: top;\n",
       "    }\n",
       "\n",
       "    .dataframe thead th {\n",
       "        text-align: right;\n",
       "    }\n",
       "</style>\n",
       "<table border=\"1\" class=\"dataframe\">\n",
       "  <thead>\n",
       "    <tr style=\"text-align: right;\">\n",
       "      <th></th>\n",
       "      <th>0</th>\n",
       "    </tr>\n",
       "  </thead>\n",
       "  <tbody>\n",
       "    <tr>\n",
       "      <th>0</th>\n",
       "      <td>27.6</td>\n",
       "    </tr>\n",
       "    <tr>\n",
       "      <th>1</th>\n",
       "      <td>0.7</td>\n",
       "    </tr>\n",
       "    <tr>\n",
       "      <th>2</th>\n",
       "      <td>1.0</td>\n",
       "    </tr>\n",
       "    <tr>\n",
       "      <th>3</th>\n",
       "      <td>2.7</td>\n",
       "    </tr>\n",
       "    <tr>\n",
       "      <th>4</th>\n",
       "      <td>0.9</td>\n",
       "    </tr>\n",
       "    <tr>\n",
       "      <th>...</th>\n",
       "      <td>...</td>\n",
       "    </tr>\n",
       "    <tr>\n",
       "      <th>10075</th>\n",
       "      <td>29.8</td>\n",
       "    </tr>\n",
       "    <tr>\n",
       "      <th>10076</th>\n",
       "      <td>8.7</td>\n",
       "    </tr>\n",
       "    <tr>\n",
       "      <th>10077</th>\n",
       "      <td>13.6</td>\n",
       "    </tr>\n",
       "    <tr>\n",
       "      <th>10078</th>\n",
       "      <td>2.1</td>\n",
       "    </tr>\n",
       "    <tr>\n",
       "      <th>10079</th>\n",
       "      <td>0.5</td>\n",
       "    </tr>\n",
       "  </tbody>\n",
       "</table>\n",
       "<p>10080 rows × 1 columns</p>\n",
       "</div>"
      ],
      "text/plain": [
       "          0\n",
       "0      27.6\n",
       "1       0.7\n",
       "2       1.0\n",
       "3       2.7\n",
       "4       0.9\n",
       "...     ...\n",
       "10075  29.8\n",
       "10076   8.7\n",
       "10077  13.6\n",
       "10078   2.1\n",
       "10079   0.5\n",
       "\n",
       "[10080 rows x 1 columns]"
      ]
     },
     "execution_count": 24,
     "metadata": {},
     "output_type": "execute_result"
    }
   ],
   "source": [
    "pd.DataFrame(data)"
   ]
  },
  {
   "cell_type": "markdown",
   "metadata": {},
   "source": [
    "### Divide the data into blocks of 50 elements, where each new block it moves 10 elements"
   ]
  },
  {
   "cell_type": "code",
   "execution_count": 25,
   "metadata": {},
   "outputs": [],
   "source": [
    "blocks_data = []\n",
    "for i in np.arange(0, int(data.shape[0]-40), 10):\n",
    "    blocks_data.append(data[i:i+50])\n",
    "blocks_data = np.array(blocks_data)"
   ]
  },
  {
   "cell_type": "markdown",
   "metadata": {},
   "source": [
    "### Then divide the blocks into 5 parts (10x5 = 50)"
   ]
  },
  {
   "cell_type": "code",
   "execution_count": 26,
   "metadata": {},
   "outputs": [],
   "source": [
    "parts_data = blocks_data.reshape(-1, 5, 10)"
   ]
  },
  {
   "cell_type": "markdown",
   "metadata": {},
   "source": [
    "### Calculate average and deviation of each part"
   ]
  },
  {
   "cell_type": "code",
   "execution_count": 27,
   "metadata": {},
   "outputs": [],
   "source": [
    "mean_parts_data = np.mean(parts_data, axis = -1)\n",
    "std_parts_data = np.std(parts_data, axis = -1, ddof = 1)"
   ]
  },
  {
   "cell_type": "markdown",
   "metadata": {},
   "source": [
    "### Take the next 20 elements from each block of 50 elements"
   ]
  },
  {
   "cell_type": "code",
   "execution_count": 28,
   "metadata": {},
   "outputs": [],
   "source": [
    "next_data = []\n",
    "for i in np.arange(50, int(data.shape[0]-10), 10):\n",
    "    next_data.append(data[i:i+20])\n",
    "next_data = np.array(next_data)"
   ]
  },
  {
   "cell_type": "markdown",
   "metadata": {},
   "source": [
    "### Calculate how many readings there are from 0 to 100, grouping every 20"
   ]
  },
  {
   "cell_type": "code",
   "execution_count": 29,
   "metadata": {},
   "outputs": [],
   "source": [
    "count_groups = np.array([np.sum(((0<=next_data) & (next_data<20))*1, axis = -1),\n",
    "                         np.sum(((20<=next_data) & (next_data<40))*1, axis = -1),\n",
    "                         np.sum(((40<=next_data) & (next_data<60))*1, axis = -1),\n",
    "                         np.sum(((60<=next_data) & (next_data<80))*1, axis = -1),\n",
    "                         np.sum(((80<=next_data) & (next_data<100))*1, axis = -1)]).T"
   ]
  },
  {
   "cell_type": "markdown",
   "metadata": {},
   "source": [
    "### Collect all and merge in new dataframe"
   ]
  },
  {
   "cell_type": "code",
   "execution_count": 30,
   "metadata": {},
   "outputs": [],
   "source": [
    "mean_std = np.append(mean_parts_data.reshape(-1, 1), std_parts_data.reshape(-1, 1), axis = -1).reshape(-1, 10)\n",
    "pad_count_groups = np.pad(count_groups, (0, mean_std.shape[0]-count_groups.shape[0]))[:, :5]\n",
    "res_data = np.append(mean_std, pad_count_groups, axis = 1)"
   ]
  },
  {
   "cell_type": "markdown",
   "metadata": {},
   "source": [
    "### View data"
   ]
  },
  {
   "cell_type": "code",
   "execution_count": 31,
   "metadata": {},
   "outputs": [],
   "source": [
    "columns = ['mean_1', 'std_1', 'mean_2', 'std_2', 'mean_3', 'std_3', 'mean_4', 'std_4', 'mean_5', 'std_5',\n",
    "           '0_20', '20_40', '40_60', '60_80', '80_100']\n",
    "DF = pd.DataFrame(res_data, columns = columns)"
   ]
  },
  {
   "cell_type": "code",
   "execution_count": 32,
   "metadata": {},
   "outputs": [
    {
     "data": {
      "text/html": [
       "<div>\n",
       "<style scoped>\n",
       "    .dataframe tbody tr th:only-of-type {\n",
       "        vertical-align: middle;\n",
       "    }\n",
       "\n",
       "    .dataframe tbody tr th {\n",
       "        vertical-align: top;\n",
       "    }\n",
       "\n",
       "    .dataframe thead th {\n",
       "        text-align: right;\n",
       "    }\n",
       "</style>\n",
       "<table border=\"1\" class=\"dataframe\">\n",
       "  <thead>\n",
       "    <tr style=\"text-align: right;\">\n",
       "      <th></th>\n",
       "      <th>mean_1</th>\n",
       "      <th>std_1</th>\n",
       "      <th>mean_2</th>\n",
       "      <th>std_2</th>\n",
       "      <th>mean_3</th>\n",
       "      <th>std_3</th>\n",
       "      <th>mean_4</th>\n",
       "      <th>std_4</th>\n",
       "      <th>mean_5</th>\n",
       "      <th>std_5</th>\n",
       "      <th>0_20</th>\n",
       "      <th>20_40</th>\n",
       "      <th>40_60</th>\n",
       "      <th>60_80</th>\n",
       "      <th>80_100</th>\n",
       "    </tr>\n",
       "  </thead>\n",
       "  <tbody>\n",
       "    <tr>\n",
       "      <th>0</th>\n",
       "      <td>4.26</td>\n",
       "      <td>8.291388</td>\n",
       "      <td>4.86</td>\n",
       "      <td>4.741823</td>\n",
       "      <td>7.83</td>\n",
       "      <td>9.558248</td>\n",
       "      <td>3.14</td>\n",
       "      <td>2.254477</td>\n",
       "      <td>1.99</td>\n",
       "      <td>1.340357</td>\n",
       "      <td>18.0</td>\n",
       "      <td>0.0</td>\n",
       "      <td>2.0</td>\n",
       "      <td>0.0</td>\n",
       "      <td>0.0</td>\n",
       "    </tr>\n",
       "    <tr>\n",
       "      <th>1</th>\n",
       "      <td>4.86</td>\n",
       "      <td>4.741823</td>\n",
       "      <td>7.83</td>\n",
       "      <td>9.558248</td>\n",
       "      <td>3.14</td>\n",
       "      <td>2.254477</td>\n",
       "      <td>1.99</td>\n",
       "      <td>1.340357</td>\n",
       "      <td>5.90</td>\n",
       "      <td>12.272100</td>\n",
       "      <td>19.0</td>\n",
       "      <td>0.0</td>\n",
       "      <td>1.0</td>\n",
       "      <td>0.0</td>\n",
       "      <td>0.0</td>\n",
       "    </tr>\n",
       "    <tr>\n",
       "      <th>2</th>\n",
       "      <td>7.83</td>\n",
       "      <td>9.558248</td>\n",
       "      <td>3.14</td>\n",
       "      <td>2.254477</td>\n",
       "      <td>1.99</td>\n",
       "      <td>1.340357</td>\n",
       "      <td>5.90</td>\n",
       "      <td>12.272100</td>\n",
       "      <td>5.76</td>\n",
       "      <td>12.876093</td>\n",
       "      <td>19.0</td>\n",
       "      <td>0.0</td>\n",
       "      <td>1.0</td>\n",
       "      <td>0.0</td>\n",
       "      <td>0.0</td>\n",
       "    </tr>\n",
       "    <tr>\n",
       "      <th>3</th>\n",
       "      <td>3.14</td>\n",
       "      <td>2.254477</td>\n",
       "      <td>1.99</td>\n",
       "      <td>1.340357</td>\n",
       "      <td>5.90</td>\n",
       "      <td>12.272100</td>\n",
       "      <td>5.76</td>\n",
       "      <td>12.876093</td>\n",
       "      <td>2.97</td>\n",
       "      <td>2.762064</td>\n",
       "      <td>19.0</td>\n",
       "      <td>0.0</td>\n",
       "      <td>1.0</td>\n",
       "      <td>0.0</td>\n",
       "      <td>0.0</td>\n",
       "    </tr>\n",
       "    <tr>\n",
       "      <th>4</th>\n",
       "      <td>1.99</td>\n",
       "      <td>1.340357</td>\n",
       "      <td>5.90</td>\n",
       "      <td>12.272100</td>\n",
       "      <td>5.76</td>\n",
       "      <td>12.876093</td>\n",
       "      <td>2.97</td>\n",
       "      <td>2.762064</td>\n",
       "      <td>8.58</td>\n",
       "      <td>12.772262</td>\n",
       "      <td>20.0</td>\n",
       "      <td>0.0</td>\n",
       "      <td>0.0</td>\n",
       "      <td>0.0</td>\n",
       "      <td>0.0</td>\n",
       "    </tr>\n",
       "    <tr>\n",
       "      <th>...</th>\n",
       "      <td>...</td>\n",
       "      <td>...</td>\n",
       "      <td>...</td>\n",
       "      <td>...</td>\n",
       "      <td>...</td>\n",
       "      <td>...</td>\n",
       "      <td>...</td>\n",
       "      <td>...</td>\n",
       "      <td>...</td>\n",
       "      <td>...</td>\n",
       "      <td>...</td>\n",
       "      <td>...</td>\n",
       "      <td>...</td>\n",
       "      <td>...</td>\n",
       "      <td>...</td>\n",
       "    </tr>\n",
       "    <tr>\n",
       "      <th>999</th>\n",
       "      <td>3.58</td>\n",
       "      <td>3.813951</td>\n",
       "      <td>1.72</td>\n",
       "      <td>2.093270</td>\n",
       "      <td>8.48</td>\n",
       "      <td>14.654449</td>\n",
       "      <td>2.20</td>\n",
       "      <td>2.688659</td>\n",
       "      <td>3.13</td>\n",
       "      <td>3.694155</td>\n",
       "      <td>19.0</td>\n",
       "      <td>1.0</td>\n",
       "      <td>0.0</td>\n",
       "      <td>0.0</td>\n",
       "      <td>0.0</td>\n",
       "    </tr>\n",
       "    <tr>\n",
       "      <th>1000</th>\n",
       "      <td>1.72</td>\n",
       "      <td>2.093270</td>\n",
       "      <td>8.48</td>\n",
       "      <td>14.654449</td>\n",
       "      <td>2.20</td>\n",
       "      <td>2.688659</td>\n",
       "      <td>3.13</td>\n",
       "      <td>3.694155</td>\n",
       "      <td>6.27</td>\n",
       "      <td>10.241425</td>\n",
       "      <td>20.0</td>\n",
       "      <td>0.0</td>\n",
       "      <td>0.0</td>\n",
       "      <td>0.0</td>\n",
       "      <td>0.0</td>\n",
       "    </tr>\n",
       "    <tr>\n",
       "      <th>1001</th>\n",
       "      <td>8.48</td>\n",
       "      <td>14.654449</td>\n",
       "      <td>2.20</td>\n",
       "      <td>2.688659</td>\n",
       "      <td>3.13</td>\n",
       "      <td>3.694155</td>\n",
       "      <td>6.27</td>\n",
       "      <td>10.241425</td>\n",
       "      <td>2.70</td>\n",
       "      <td>3.612940</td>\n",
       "      <td>19.0</td>\n",
       "      <td>1.0</td>\n",
       "      <td>0.0</td>\n",
       "      <td>0.0</td>\n",
       "      <td>0.0</td>\n",
       "    </tr>\n",
       "    <tr>\n",
       "      <th>1002</th>\n",
       "      <td>2.20</td>\n",
       "      <td>2.688659</td>\n",
       "      <td>3.13</td>\n",
       "      <td>3.694155</td>\n",
       "      <td>6.27</td>\n",
       "      <td>10.241425</td>\n",
       "      <td>2.70</td>\n",
       "      <td>3.612940</td>\n",
       "      <td>1.33</td>\n",
       "      <td>1.255256</td>\n",
       "      <td>0.0</td>\n",
       "      <td>0.0</td>\n",
       "      <td>0.0</td>\n",
       "      <td>0.0</td>\n",
       "      <td>0.0</td>\n",
       "    </tr>\n",
       "    <tr>\n",
       "      <th>1003</th>\n",
       "      <td>3.13</td>\n",
       "      <td>3.694155</td>\n",
       "      <td>6.27</td>\n",
       "      <td>10.241425</td>\n",
       "      <td>2.70</td>\n",
       "      <td>3.612940</td>\n",
       "      <td>1.33</td>\n",
       "      <td>1.255256</td>\n",
       "      <td>6.92</td>\n",
       "      <td>9.062965</td>\n",
       "      <td>0.0</td>\n",
       "      <td>0.0</td>\n",
       "      <td>0.0</td>\n",
       "      <td>0.0</td>\n",
       "      <td>0.0</td>\n",
       "    </tr>\n",
       "  </tbody>\n",
       "</table>\n",
       "<p>1004 rows × 15 columns</p>\n",
       "</div>"
      ],
      "text/plain": [
       "      mean_1      std_1  mean_2      std_2  mean_3      std_3  mean_4  \\\n",
       "0       4.26   8.291388    4.86   4.741823    7.83   9.558248    3.14   \n",
       "1       4.86   4.741823    7.83   9.558248    3.14   2.254477    1.99   \n",
       "2       7.83   9.558248    3.14   2.254477    1.99   1.340357    5.90   \n",
       "3       3.14   2.254477    1.99   1.340357    5.90  12.272100    5.76   \n",
       "4       1.99   1.340357    5.90  12.272100    5.76  12.876093    2.97   \n",
       "...      ...        ...     ...        ...     ...        ...     ...   \n",
       "999     3.58   3.813951    1.72   2.093270    8.48  14.654449    2.20   \n",
       "1000    1.72   2.093270    8.48  14.654449    2.20   2.688659    3.13   \n",
       "1001    8.48  14.654449    2.20   2.688659    3.13   3.694155    6.27   \n",
       "1002    2.20   2.688659    3.13   3.694155    6.27  10.241425    2.70   \n",
       "1003    3.13   3.694155    6.27  10.241425    2.70   3.612940    1.33   \n",
       "\n",
       "          std_4  mean_5      std_5  0_20  20_40  40_60  60_80  80_100  \n",
       "0      2.254477    1.99   1.340357  18.0    0.0    2.0    0.0     0.0  \n",
       "1      1.340357    5.90  12.272100  19.0    0.0    1.0    0.0     0.0  \n",
       "2     12.272100    5.76  12.876093  19.0    0.0    1.0    0.0     0.0  \n",
       "3     12.876093    2.97   2.762064  19.0    0.0    1.0    0.0     0.0  \n",
       "4      2.762064    8.58  12.772262  20.0    0.0    0.0    0.0     0.0  \n",
       "...         ...     ...        ...   ...    ...    ...    ...     ...  \n",
       "999    2.688659    3.13   3.694155  19.0    1.0    0.0    0.0     0.0  \n",
       "1000   3.694155    6.27  10.241425  20.0    0.0    0.0    0.0     0.0  \n",
       "1001  10.241425    2.70   3.612940  19.0    1.0    0.0    0.0     0.0  \n",
       "1002   3.612940    1.33   1.255256   0.0    0.0    0.0    0.0     0.0  \n",
       "1003   1.255256    6.92   9.062965   0.0    0.0    0.0    0.0     0.0  \n",
       "\n",
       "[1004 rows x 15 columns]"
      ]
     },
     "execution_count": 32,
     "metadata": {},
     "output_type": "execute_result"
    }
   ],
   "source": [
    "DF"
   ]
  },
  {
   "cell_type": "markdown",
   "metadata": {},
   "source": [
    "### Normalization, dividing all column elements by the highest occurrence of the column itself (0,1)"
   ]
  },
  {
   "cell_type": "code",
   "execution_count": 33,
   "metadata": {},
   "outputs": [
    {
     "data": {
      "text/plain": [
       "mean_1    16.910000\n",
       "std_1     31.063297\n",
       "mean_2    16.910000\n",
       "std_2     31.063297\n",
       "mean_3    16.910000\n",
       "std_3     31.063297\n",
       "mean_4    16.910000\n",
       "std_4     31.063297\n",
       "mean_5    16.910000\n",
       "std_5     31.063297\n",
       "0_20      20.000000\n",
       "20_40      5.000000\n",
       "40_60      2.000000\n",
       "60_80      1.000000\n",
       "80_100     1.000000\n",
       "dtype: float64"
      ]
     },
     "execution_count": 33,
     "metadata": {},
     "output_type": "execute_result"
    }
   ],
   "source": [
    "revert = DF.max()\n",
    "DF.max()"
   ]
  },
  {
   "cell_type": "code",
   "execution_count": 34,
   "metadata": {},
   "outputs": [
    {
     "data": {
      "text/html": [
       "<div>\n",
       "<style scoped>\n",
       "    .dataframe tbody tr th:only-of-type {\n",
       "        vertical-align: middle;\n",
       "    }\n",
       "\n",
       "    .dataframe tbody tr th {\n",
       "        vertical-align: top;\n",
       "    }\n",
       "\n",
       "    .dataframe thead th {\n",
       "        text-align: right;\n",
       "    }\n",
       "</style>\n",
       "<table border=\"1\" class=\"dataframe\">\n",
       "  <thead>\n",
       "    <tr style=\"text-align: right;\">\n",
       "      <th></th>\n",
       "      <th>mean_1</th>\n",
       "      <th>std_1</th>\n",
       "      <th>mean_2</th>\n",
       "      <th>std_2</th>\n",
       "      <th>mean_3</th>\n",
       "      <th>std_3</th>\n",
       "      <th>mean_4</th>\n",
       "      <th>std_4</th>\n",
       "      <th>mean_5</th>\n",
       "      <th>std_5</th>\n",
       "      <th>0_20</th>\n",
       "      <th>20_40</th>\n",
       "      <th>40_60</th>\n",
       "      <th>60_80</th>\n",
       "      <th>80_100</th>\n",
       "    </tr>\n",
       "  </thead>\n",
       "  <tbody>\n",
       "    <tr>\n",
       "      <th>0</th>\n",
       "      <td>0.251922</td>\n",
       "      <td>0.266919</td>\n",
       "      <td>0.287404</td>\n",
       "      <td>0.152650</td>\n",
       "      <td>0.463040</td>\n",
       "      <td>0.307702</td>\n",
       "      <td>0.185689</td>\n",
       "      <td>0.072577</td>\n",
       "      <td>0.117682</td>\n",
       "      <td>0.043149</td>\n",
       "      <td>0.90</td>\n",
       "      <td>0.0</td>\n",
       "      <td>1.0</td>\n",
       "      <td>0.0</td>\n",
       "      <td>0.0</td>\n",
       "    </tr>\n",
       "    <tr>\n",
       "      <th>1</th>\n",
       "      <td>0.287404</td>\n",
       "      <td>0.152650</td>\n",
       "      <td>0.463040</td>\n",
       "      <td>0.307702</td>\n",
       "      <td>0.185689</td>\n",
       "      <td>0.072577</td>\n",
       "      <td>0.117682</td>\n",
       "      <td>0.043149</td>\n",
       "      <td>0.348906</td>\n",
       "      <td>0.395068</td>\n",
       "      <td>0.95</td>\n",
       "      <td>0.0</td>\n",
       "      <td>0.5</td>\n",
       "      <td>0.0</td>\n",
       "      <td>0.0</td>\n",
       "    </tr>\n",
       "    <tr>\n",
       "      <th>2</th>\n",
       "      <td>0.463040</td>\n",
       "      <td>0.307702</td>\n",
       "      <td>0.185689</td>\n",
       "      <td>0.072577</td>\n",
       "      <td>0.117682</td>\n",
       "      <td>0.043149</td>\n",
       "      <td>0.348906</td>\n",
       "      <td>0.395068</td>\n",
       "      <td>0.340627</td>\n",
       "      <td>0.414511</td>\n",
       "      <td>0.95</td>\n",
       "      <td>0.0</td>\n",
       "      <td>0.5</td>\n",
       "      <td>0.0</td>\n",
       "      <td>0.0</td>\n",
       "    </tr>\n",
       "    <tr>\n",
       "      <th>3</th>\n",
       "      <td>0.185689</td>\n",
       "      <td>0.072577</td>\n",
       "      <td>0.117682</td>\n",
       "      <td>0.043149</td>\n",
       "      <td>0.348906</td>\n",
       "      <td>0.395068</td>\n",
       "      <td>0.340627</td>\n",
       "      <td>0.414511</td>\n",
       "      <td>0.175636</td>\n",
       "      <td>0.088917</td>\n",
       "      <td>0.95</td>\n",
       "      <td>0.0</td>\n",
       "      <td>0.5</td>\n",
       "      <td>0.0</td>\n",
       "      <td>0.0</td>\n",
       "    </tr>\n",
       "    <tr>\n",
       "      <th>4</th>\n",
       "      <td>0.117682</td>\n",
       "      <td>0.043149</td>\n",
       "      <td>0.348906</td>\n",
       "      <td>0.395068</td>\n",
       "      <td>0.340627</td>\n",
       "      <td>0.414511</td>\n",
       "      <td>0.175636</td>\n",
       "      <td>0.088917</td>\n",
       "      <td>0.507392</td>\n",
       "      <td>0.411169</td>\n",
       "      <td>1.00</td>\n",
       "      <td>0.0</td>\n",
       "      <td>0.0</td>\n",
       "      <td>0.0</td>\n",
       "      <td>0.0</td>\n",
       "    </tr>\n",
       "    <tr>\n",
       "      <th>...</th>\n",
       "      <td>...</td>\n",
       "      <td>...</td>\n",
       "      <td>...</td>\n",
       "      <td>...</td>\n",
       "      <td>...</td>\n",
       "      <td>...</td>\n",
       "      <td>...</td>\n",
       "      <td>...</td>\n",
       "      <td>...</td>\n",
       "      <td>...</td>\n",
       "      <td>...</td>\n",
       "      <td>...</td>\n",
       "      <td>...</td>\n",
       "      <td>...</td>\n",
       "      <td>...</td>\n",
       "    </tr>\n",
       "    <tr>\n",
       "      <th>999</th>\n",
       "      <td>0.211709</td>\n",
       "      <td>0.122780</td>\n",
       "      <td>0.101715</td>\n",
       "      <td>0.067387</td>\n",
       "      <td>0.501478</td>\n",
       "      <td>0.471761</td>\n",
       "      <td>0.130101</td>\n",
       "      <td>0.086554</td>\n",
       "      <td>0.185098</td>\n",
       "      <td>0.118923</td>\n",
       "      <td>0.95</td>\n",
       "      <td>0.2</td>\n",
       "      <td>0.0</td>\n",
       "      <td>0.0</td>\n",
       "      <td>0.0</td>\n",
       "    </tr>\n",
       "    <tr>\n",
       "      <th>1000</th>\n",
       "      <td>0.101715</td>\n",
       "      <td>0.067387</td>\n",
       "      <td>0.501478</td>\n",
       "      <td>0.471761</td>\n",
       "      <td>0.130101</td>\n",
       "      <td>0.086554</td>\n",
       "      <td>0.185098</td>\n",
       "      <td>0.118923</td>\n",
       "      <td>0.370787</td>\n",
       "      <td>0.329695</td>\n",
       "      <td>1.00</td>\n",
       "      <td>0.0</td>\n",
       "      <td>0.0</td>\n",
       "      <td>0.0</td>\n",
       "      <td>0.0</td>\n",
       "    </tr>\n",
       "    <tr>\n",
       "      <th>1001</th>\n",
       "      <td>0.501478</td>\n",
       "      <td>0.471761</td>\n",
       "      <td>0.130101</td>\n",
       "      <td>0.086554</td>\n",
       "      <td>0.185098</td>\n",
       "      <td>0.118923</td>\n",
       "      <td>0.370787</td>\n",
       "      <td>0.329695</td>\n",
       "      <td>0.159669</td>\n",
       "      <td>0.116309</td>\n",
       "      <td>0.95</td>\n",
       "      <td>0.2</td>\n",
       "      <td>0.0</td>\n",
       "      <td>0.0</td>\n",
       "      <td>0.0</td>\n",
       "    </tr>\n",
       "    <tr>\n",
       "      <th>1002</th>\n",
       "      <td>0.130101</td>\n",
       "      <td>0.086554</td>\n",
       "      <td>0.185098</td>\n",
       "      <td>0.118923</td>\n",
       "      <td>0.370787</td>\n",
       "      <td>0.329695</td>\n",
       "      <td>0.159669</td>\n",
       "      <td>0.116309</td>\n",
       "      <td>0.078652</td>\n",
       "      <td>0.040410</td>\n",
       "      <td>0.00</td>\n",
       "      <td>0.0</td>\n",
       "      <td>0.0</td>\n",
       "      <td>0.0</td>\n",
       "      <td>0.0</td>\n",
       "    </tr>\n",
       "    <tr>\n",
       "      <th>1003</th>\n",
       "      <td>0.185098</td>\n",
       "      <td>0.118923</td>\n",
       "      <td>0.370787</td>\n",
       "      <td>0.329695</td>\n",
       "      <td>0.159669</td>\n",
       "      <td>0.116309</td>\n",
       "      <td>0.078652</td>\n",
       "      <td>0.040410</td>\n",
       "      <td>0.409225</td>\n",
       "      <td>0.291758</td>\n",
       "      <td>0.00</td>\n",
       "      <td>0.0</td>\n",
       "      <td>0.0</td>\n",
       "      <td>0.0</td>\n",
       "      <td>0.0</td>\n",
       "    </tr>\n",
       "  </tbody>\n",
       "</table>\n",
       "<p>1004 rows × 15 columns</p>\n",
       "</div>"
      ],
      "text/plain": [
       "        mean_1     std_1    mean_2     std_2    mean_3     std_3    mean_4  \\\n",
       "0     0.251922  0.266919  0.287404  0.152650  0.463040  0.307702  0.185689   \n",
       "1     0.287404  0.152650  0.463040  0.307702  0.185689  0.072577  0.117682   \n",
       "2     0.463040  0.307702  0.185689  0.072577  0.117682  0.043149  0.348906   \n",
       "3     0.185689  0.072577  0.117682  0.043149  0.348906  0.395068  0.340627   \n",
       "4     0.117682  0.043149  0.348906  0.395068  0.340627  0.414511  0.175636   \n",
       "...        ...       ...       ...       ...       ...       ...       ...   \n",
       "999   0.211709  0.122780  0.101715  0.067387  0.501478  0.471761  0.130101   \n",
       "1000  0.101715  0.067387  0.501478  0.471761  0.130101  0.086554  0.185098   \n",
       "1001  0.501478  0.471761  0.130101  0.086554  0.185098  0.118923  0.370787   \n",
       "1002  0.130101  0.086554  0.185098  0.118923  0.370787  0.329695  0.159669   \n",
       "1003  0.185098  0.118923  0.370787  0.329695  0.159669  0.116309  0.078652   \n",
       "\n",
       "         std_4    mean_5     std_5  0_20  20_40  40_60  60_80  80_100  \n",
       "0     0.072577  0.117682  0.043149  0.90    0.0    1.0    0.0     0.0  \n",
       "1     0.043149  0.348906  0.395068  0.95    0.0    0.5    0.0     0.0  \n",
       "2     0.395068  0.340627  0.414511  0.95    0.0    0.5    0.0     0.0  \n",
       "3     0.414511  0.175636  0.088917  0.95    0.0    0.5    0.0     0.0  \n",
       "4     0.088917  0.507392  0.411169  1.00    0.0    0.0    0.0     0.0  \n",
       "...        ...       ...       ...   ...    ...    ...    ...     ...  \n",
       "999   0.086554  0.185098  0.118923  0.95    0.2    0.0    0.0     0.0  \n",
       "1000  0.118923  0.370787  0.329695  1.00    0.0    0.0    0.0     0.0  \n",
       "1001  0.329695  0.159669  0.116309  0.95    0.2    0.0    0.0     0.0  \n",
       "1002  0.116309  0.078652  0.040410  0.00    0.0    0.0    0.0     0.0  \n",
       "1003  0.040410  0.409225  0.291758  0.00    0.0    0.0    0.0     0.0  \n",
       "\n",
       "[1004 rows x 15 columns]"
      ]
     },
     "execution_count": 34,
     "metadata": {},
     "output_type": "execute_result"
    }
   ],
   "source": [
    "DF.divide(DF.max())"
   ]
  },
  {
   "cell_type": "code",
   "execution_count": 35,
   "metadata": {},
   "outputs": [],
   "source": [
    "DF = DF.divide(DF.max())"
   ]
  },
  {
   "cell_type": "markdown",
   "metadata": {},
   "source": [
    "## Dividing averages/deviation in X and counts in Y"
   ]
  },
  {
   "cell_type": "markdown",
   "metadata": {},
   "source": [
    "### Viewing the neuron input"
   ]
  },
  {
   "cell_type": "code",
   "execution_count": 36,
   "metadata": {},
   "outputs": [
    {
     "data": {
      "text/html": [
       "<div>\n",
       "<style scoped>\n",
       "    .dataframe tbody tr th:only-of-type {\n",
       "        vertical-align: middle;\n",
       "    }\n",
       "\n",
       "    .dataframe tbody tr th {\n",
       "        vertical-align: top;\n",
       "    }\n",
       "\n",
       "    .dataframe thead th {\n",
       "        text-align: right;\n",
       "    }\n",
       "</style>\n",
       "<table border=\"1\" class=\"dataframe\">\n",
       "  <thead>\n",
       "    <tr style=\"text-align: right;\">\n",
       "      <th></th>\n",
       "      <th>mean_1</th>\n",
       "      <th>std_1</th>\n",
       "      <th>mean_2</th>\n",
       "      <th>std_2</th>\n",
       "      <th>mean_3</th>\n",
       "      <th>std_3</th>\n",
       "      <th>mean_4</th>\n",
       "      <th>std_4</th>\n",
       "      <th>mean_5</th>\n",
       "      <th>std_5</th>\n",
       "    </tr>\n",
       "  </thead>\n",
       "  <tbody>\n",
       "    <tr>\n",
       "      <th>0</th>\n",
       "      <td>0.251922</td>\n",
       "      <td>0.266919</td>\n",
       "      <td>0.287404</td>\n",
       "      <td>0.152650</td>\n",
       "      <td>0.463040</td>\n",
       "      <td>0.307702</td>\n",
       "      <td>0.185689</td>\n",
       "      <td>0.072577</td>\n",
       "      <td>0.117682</td>\n",
       "      <td>0.043149</td>\n",
       "    </tr>\n",
       "    <tr>\n",
       "      <th>1</th>\n",
       "      <td>0.287404</td>\n",
       "      <td>0.152650</td>\n",
       "      <td>0.463040</td>\n",
       "      <td>0.307702</td>\n",
       "      <td>0.185689</td>\n",
       "      <td>0.072577</td>\n",
       "      <td>0.117682</td>\n",
       "      <td>0.043149</td>\n",
       "      <td>0.348906</td>\n",
       "      <td>0.395068</td>\n",
       "    </tr>\n",
       "    <tr>\n",
       "      <th>2</th>\n",
       "      <td>0.463040</td>\n",
       "      <td>0.307702</td>\n",
       "      <td>0.185689</td>\n",
       "      <td>0.072577</td>\n",
       "      <td>0.117682</td>\n",
       "      <td>0.043149</td>\n",
       "      <td>0.348906</td>\n",
       "      <td>0.395068</td>\n",
       "      <td>0.340627</td>\n",
       "      <td>0.414511</td>\n",
       "    </tr>\n",
       "    <tr>\n",
       "      <th>3</th>\n",
       "      <td>0.185689</td>\n",
       "      <td>0.072577</td>\n",
       "      <td>0.117682</td>\n",
       "      <td>0.043149</td>\n",
       "      <td>0.348906</td>\n",
       "      <td>0.395068</td>\n",
       "      <td>0.340627</td>\n",
       "      <td>0.414511</td>\n",
       "      <td>0.175636</td>\n",
       "      <td>0.088917</td>\n",
       "    </tr>\n",
       "    <tr>\n",
       "      <th>4</th>\n",
       "      <td>0.117682</td>\n",
       "      <td>0.043149</td>\n",
       "      <td>0.348906</td>\n",
       "      <td>0.395068</td>\n",
       "      <td>0.340627</td>\n",
       "      <td>0.414511</td>\n",
       "      <td>0.175636</td>\n",
       "      <td>0.088917</td>\n",
       "      <td>0.507392</td>\n",
       "      <td>0.411169</td>\n",
       "    </tr>\n",
       "    <tr>\n",
       "      <th>...</th>\n",
       "      <td>...</td>\n",
       "      <td>...</td>\n",
       "      <td>...</td>\n",
       "      <td>...</td>\n",
       "      <td>...</td>\n",
       "      <td>...</td>\n",
       "      <td>...</td>\n",
       "      <td>...</td>\n",
       "      <td>...</td>\n",
       "      <td>...</td>\n",
       "    </tr>\n",
       "    <tr>\n",
       "      <th>999</th>\n",
       "      <td>0.211709</td>\n",
       "      <td>0.122780</td>\n",
       "      <td>0.101715</td>\n",
       "      <td>0.067387</td>\n",
       "      <td>0.501478</td>\n",
       "      <td>0.471761</td>\n",
       "      <td>0.130101</td>\n",
       "      <td>0.086554</td>\n",
       "      <td>0.185098</td>\n",
       "      <td>0.118923</td>\n",
       "    </tr>\n",
       "    <tr>\n",
       "      <th>1000</th>\n",
       "      <td>0.101715</td>\n",
       "      <td>0.067387</td>\n",
       "      <td>0.501478</td>\n",
       "      <td>0.471761</td>\n",
       "      <td>0.130101</td>\n",
       "      <td>0.086554</td>\n",
       "      <td>0.185098</td>\n",
       "      <td>0.118923</td>\n",
       "      <td>0.370787</td>\n",
       "      <td>0.329695</td>\n",
       "    </tr>\n",
       "    <tr>\n",
       "      <th>1001</th>\n",
       "      <td>0.501478</td>\n",
       "      <td>0.471761</td>\n",
       "      <td>0.130101</td>\n",
       "      <td>0.086554</td>\n",
       "      <td>0.185098</td>\n",
       "      <td>0.118923</td>\n",
       "      <td>0.370787</td>\n",
       "      <td>0.329695</td>\n",
       "      <td>0.159669</td>\n",
       "      <td>0.116309</td>\n",
       "    </tr>\n",
       "    <tr>\n",
       "      <th>1002</th>\n",
       "      <td>0.130101</td>\n",
       "      <td>0.086554</td>\n",
       "      <td>0.185098</td>\n",
       "      <td>0.118923</td>\n",
       "      <td>0.370787</td>\n",
       "      <td>0.329695</td>\n",
       "      <td>0.159669</td>\n",
       "      <td>0.116309</td>\n",
       "      <td>0.078652</td>\n",
       "      <td>0.040410</td>\n",
       "    </tr>\n",
       "    <tr>\n",
       "      <th>1003</th>\n",
       "      <td>0.185098</td>\n",
       "      <td>0.118923</td>\n",
       "      <td>0.370787</td>\n",
       "      <td>0.329695</td>\n",
       "      <td>0.159669</td>\n",
       "      <td>0.116309</td>\n",
       "      <td>0.078652</td>\n",
       "      <td>0.040410</td>\n",
       "      <td>0.409225</td>\n",
       "      <td>0.291758</td>\n",
       "    </tr>\n",
       "  </tbody>\n",
       "</table>\n",
       "<p>1004 rows × 10 columns</p>\n",
       "</div>"
      ],
      "text/plain": [
       "        mean_1     std_1    mean_2     std_2    mean_3     std_3    mean_4  \\\n",
       "0     0.251922  0.266919  0.287404  0.152650  0.463040  0.307702  0.185689   \n",
       "1     0.287404  0.152650  0.463040  0.307702  0.185689  0.072577  0.117682   \n",
       "2     0.463040  0.307702  0.185689  0.072577  0.117682  0.043149  0.348906   \n",
       "3     0.185689  0.072577  0.117682  0.043149  0.348906  0.395068  0.340627   \n",
       "4     0.117682  0.043149  0.348906  0.395068  0.340627  0.414511  0.175636   \n",
       "...        ...       ...       ...       ...       ...       ...       ...   \n",
       "999   0.211709  0.122780  0.101715  0.067387  0.501478  0.471761  0.130101   \n",
       "1000  0.101715  0.067387  0.501478  0.471761  0.130101  0.086554  0.185098   \n",
       "1001  0.501478  0.471761  0.130101  0.086554  0.185098  0.118923  0.370787   \n",
       "1002  0.130101  0.086554  0.185098  0.118923  0.370787  0.329695  0.159669   \n",
       "1003  0.185098  0.118923  0.370787  0.329695  0.159669  0.116309  0.078652   \n",
       "\n",
       "         std_4    mean_5     std_5  \n",
       "0     0.072577  0.117682  0.043149  \n",
       "1     0.043149  0.348906  0.395068  \n",
       "2     0.395068  0.340627  0.414511  \n",
       "3     0.414511  0.175636  0.088917  \n",
       "4     0.088917  0.507392  0.411169  \n",
       "...        ...       ...       ...  \n",
       "999   0.086554  0.185098  0.118923  \n",
       "1000  0.118923  0.370787  0.329695  \n",
       "1001  0.329695  0.159669  0.116309  \n",
       "1002  0.116309  0.078652  0.040410  \n",
       "1003  0.040410  0.409225  0.291758  \n",
       "\n",
       "[1004 rows x 10 columns]"
      ]
     },
     "execution_count": 36,
     "metadata": {},
     "output_type": "execute_result"
    },
    {
     "data": {
      "image/png": "[encoded data removed]",
      "text/plain": [
       "<Figure size 432x288 with 1 Axes>"
      ]
     },
     "metadata": {
      "needs_background": "light"
     },
     "output_type": "display_data"
    }
   ],
   "source": [
    "X = DF.iloc[:, 0:10]\n",
    "\n",
    "X.plot(kind='line', stacked=True); X"
   ]
  },
  {
   "cell_type": "markdown",
   "metadata": {},
   "source": [
    "### Visualizing the output of the neuron"
   ]
  },
  {
   "cell_type": "code",
   "execution_count": 37,
   "metadata": {},
   "outputs": [
    {
     "data": {
      "text/plain": [
       "<matplotlib.axes._subplots.AxesSubplot at 0x7f99f5b35d90>"
      ]
     },
     "execution_count": 37,
     "metadata": {},
     "output_type": "execute_result"
    },
    {
     "data": {
      "image/png": "[encoded data removed]",
      "text/plain": [
       "<Figure size 432x288 with 1 Axes>"
      ]
     },
     "metadata": {
      "needs_background": "light"
     },
     "output_type": "display_data"
    }
   ],
   "source": [
    "Y = DF.iloc[:, 10:15];\n",
    "\n",
    "Y.plot(kind='line', stacked=True);\n",
    "pd.DataFrame(count_groups, columns = ['0-20','20-40','40-60','60-80','80-100']).sum().plot(kind='bar', stacked=True)"
   ]
  },
  {
   "cell_type": "markdown",
   "metadata": {},
   "source": [
    "### Visualizing the shape of the axes"
   ]
  },
  {
   "cell_type": "code",
   "execution_count": 38,
   "metadata": {},
   "outputs": [
    {
     "data": {
      "text/plain": [
       "((1004, 10), (1004, 5))"
      ]
     },
     "execution_count": 38,
     "metadata": {},
     "output_type": "execute_result"
    }
   ],
   "source": [
    "X.shape, Y.shape"
   ]
  },
  {
   "cell_type": "markdown",
   "metadata": {},
   "source": [
    "### Preparing cross validation k = 5"
   ]
  },
  {
   "cell_type": "code",
   "execution_count": 39,
   "metadata": {},
   "outputs": [],
   "source": [
    "kfold = KFold(5, False, 1)"
   ]
  },
  {
   "cell_type": "markdown",
   "metadata": {},
   "source": [
    "### Training:"
   ]
  },
  {
   "cell_type": "code",
   "execution_count": 40,
   "metadata": {},
   "outputs": [
    {
     "name": "stdout",
     "output_type": "stream",
     "text": [
      "mse: 1.60%\n",
      "mse: 1.16%\n",
      "mse: 0.84%\n",
      "mse: 1.15%\n",
      "mse: 1.10%\n",
      "1.17% (+/- 0.24%)\n"
     ]
    }
   ],
   "source": [
    "cvscores = []\n",
    "for train, test in kfold.split(X,Y):\n",
    "\n",
    "    model = Sequential()\n",
    "    model.add(Dense(10,\n",
    "                kernel_regularizer=l2(0.001),\n",
    "                kernel_initializer=VarianceScaling(), \n",
    "                activation='sigmoid',\n",
    "                name='hidden-input'))\n",
    "    model.add(Dense(5, \n",
    "                kernel_regularizer=l2(0.001),\n",
    "                kernel_initializer=VarianceScaling(),                 \n",
    "                activation='sigmoid',\n",
    "                name='output'))\n",
    "    \n",
    "    model.compile(loss='mse', optimizer='adam', metrics=['mse'])\n",
    "    \n",
    "    model.fit(X.iloc[train].values, Y.iloc[train].values, epochs=100, batch_size=5, verbose = 0, shuffle=False,\n",
    "              validation_data=(X.iloc[test].values, Y.iloc[test].values))\n",
    "\n",
    "    scores = model.evaluate(X.iloc[test].values, Y.iloc[test].values, verbose=0)\n",
    "    print(\"%s: %.2f%%\" % (model.metrics_names[1], scores[1]*100))\n",
    "    cvscores.append(scores[1] * 100)\n",
    "\n",
    "print(\"%.2f%% (+/- %.2f%%)\" % (np.mean(cvscores), np.std(cvscores)))"
   ]
  },
  {
   "cell_type": "markdown",
   "metadata": {},
   "source": [
    "### Viewing the network structure"
   ]
  },
  {
   "cell_type": "code",
   "execution_count": 41,
   "metadata": {},
   "outputs": [
    {
     "name": "stdout",
     "output_type": "stream",
     "text": [
      "Model: \"sequential_5\"\n",
      "_________________________________________________________________\n",
      "Layer (type)                 Output Shape              Param #   \n",
      "=================================================================\n",
      "hidden-input (Dense)         multiple                  110       \n",
      "_________________________________________________________________\n",
      "output (Dense)               multiple                  55        \n",
      "=================================================================\n",
      "Total params: 165\n",
      "Trainable params: 165\n",
      "Non-trainable params: 0\n",
      "_________________________________________________________________\n"
     ]
    }
   ],
   "source": [
    "model.summary()"
   ]
  },
  {
   "cell_type": "markdown",
   "metadata": {},
   "source": [
    "### Generating prediction based on X readings"
   ]
  },
  {
   "cell_type": "code",
   "execution_count": 42,
   "metadata": {},
   "outputs": [
    {
     "name": "stdout",
     "output_type": "stream",
     "text": [
      "WARNING:tensorflow:Layer hidden-input is casting an input tensor from dtype float64 to the layer's dtype of float32, which is new behavior in TensorFlow 2.  The layer has dtype float32 because it's dtype defaults to floatx.\n",
      "\n",
      "If you intended to run this layer in float32, you can safely ignore this warning. If in doubt, this warning is likely only an issue if you are porting a TensorFlow 1.X model to TensorFlow 2.\n",
      "\n",
      "To change all layers to have dtype float64 by default, call `tf.keras.backend.set_floatx('float64')`. To change just this layer, pass dtype='float64' to the layer constructor. If you are the author of this layer, you can disable autocasting by passing autocast=False to the base Layer constructor.\n",
      "\n"
     ]
    }
   ],
   "source": [
    "y = model.predict(X)"
   ]
  },
  {
   "cell_type": "code",
   "execution_count": 43,
   "metadata": {},
   "outputs": [
    {
     "data": {
      "text/plain": [
       "1004"
      ]
     },
     "execution_count": 43,
     "metadata": {},
     "output_type": "execute_result"
    }
   ],
   "source": [
    "len(X)"
   ]
  },
  {
   "cell_type": "code",
   "execution_count": 44,
   "metadata": {},
   "outputs": [
    {
     "data": {
      "text/html": [
       "<div>\n",
       "<style scoped>\n",
       "    .dataframe tbody tr th:only-of-type {\n",
       "        vertical-align: middle;\n",
       "    }\n",
       "\n",
       "    .dataframe tbody tr th {\n",
       "        vertical-align: top;\n",
       "    }\n",
       "\n",
       "    .dataframe thead th {\n",
       "        text-align: right;\n",
       "    }\n",
       "</style>\n",
       "<table border=\"1\" class=\"dataframe\">\n",
       "  <thead>\n",
       "    <tr style=\"text-align: right;\">\n",
       "      <th></th>\n",
       "      <th>0</th>\n",
       "      <th>1</th>\n",
       "      <th>2</th>\n",
       "      <th>3</th>\n",
       "      <th>4</th>\n",
       "    </tr>\n",
       "  </thead>\n",
       "  <tbody>\n",
       "    <tr>\n",
       "      <th>0</th>\n",
       "      <td>0.962622</td>\n",
       "      <td>0.135029</td>\n",
       "      <td>0.032634</td>\n",
       "      <td>0.012159</td>\n",
       "      <td>0.020513</td>\n",
       "    </tr>\n",
       "    <tr>\n",
       "      <th>1</th>\n",
       "      <td>0.962622</td>\n",
       "      <td>0.135020</td>\n",
       "      <td>0.032632</td>\n",
       "      <td>0.012159</td>\n",
       "      <td>0.020512</td>\n",
       "    </tr>\n",
       "    <tr>\n",
       "      <th>2</th>\n",
       "      <td>0.962622</td>\n",
       "      <td>0.135025</td>\n",
       "      <td>0.032633</td>\n",
       "      <td>0.012159</td>\n",
       "      <td>0.020512</td>\n",
       "    </tr>\n",
       "    <tr>\n",
       "      <th>3</th>\n",
       "      <td>0.962622</td>\n",
       "      <td>0.135030</td>\n",
       "      <td>0.032634</td>\n",
       "      <td>0.012159</td>\n",
       "      <td>0.020513</td>\n",
       "    </tr>\n",
       "    <tr>\n",
       "      <th>4</th>\n",
       "      <td>0.962622</td>\n",
       "      <td>0.135023</td>\n",
       "      <td>0.032633</td>\n",
       "      <td>0.012159</td>\n",
       "      <td>0.020512</td>\n",
       "    </tr>\n",
       "    <tr>\n",
       "      <th>...</th>\n",
       "      <td>...</td>\n",
       "      <td>...</td>\n",
       "      <td>...</td>\n",
       "      <td>...</td>\n",
       "      <td>...</td>\n",
       "    </tr>\n",
       "    <tr>\n",
       "      <th>999</th>\n",
       "      <td>0.962622</td>\n",
       "      <td>0.135030</td>\n",
       "      <td>0.032634</td>\n",
       "      <td>0.012159</td>\n",
       "      <td>0.020513</td>\n",
       "    </tr>\n",
       "    <tr>\n",
       "      <th>1000</th>\n",
       "      <td>0.962622</td>\n",
       "      <td>0.135019</td>\n",
       "      <td>0.032632</td>\n",
       "      <td>0.012159</td>\n",
       "      <td>0.020512</td>\n",
       "    </tr>\n",
       "    <tr>\n",
       "      <th>1001</th>\n",
       "      <td>0.962622</td>\n",
       "      <td>0.135029</td>\n",
       "      <td>0.032634</td>\n",
       "      <td>0.012159</td>\n",
       "      <td>0.020513</td>\n",
       "    </tr>\n",
       "    <tr>\n",
       "      <th>1002</th>\n",
       "      <td>0.962622</td>\n",
       "      <td>0.135028</td>\n",
       "      <td>0.032634</td>\n",
       "      <td>0.012159</td>\n",
       "      <td>0.020512</td>\n",
       "    </tr>\n",
       "    <tr>\n",
       "      <th>1003</th>\n",
       "      <td>0.962622</td>\n",
       "      <td>0.135020</td>\n",
       "      <td>0.032633</td>\n",
       "      <td>0.012159</td>\n",
       "      <td>0.020512</td>\n",
       "    </tr>\n",
       "  </tbody>\n",
       "</table>\n",
       "<p>1004 rows × 5 columns</p>\n",
       "</div>"
      ],
      "text/plain": [
       "             0         1         2         3         4\n",
       "0     0.962622  0.135029  0.032634  0.012159  0.020513\n",
       "1     0.962622  0.135020  0.032632  0.012159  0.020512\n",
       "2     0.962622  0.135025  0.032633  0.012159  0.020512\n",
       "3     0.962622  0.135030  0.032634  0.012159  0.020513\n",
       "4     0.962622  0.135023  0.032633  0.012159  0.020512\n",
       "...        ...       ...       ...       ...       ...\n",
       "999   0.962622  0.135030  0.032634  0.012159  0.020513\n",
       "1000  0.962622  0.135019  0.032632  0.012159  0.020512\n",
       "1001  0.962622  0.135029  0.032634  0.012159  0.020513\n",
       "1002  0.962622  0.135028  0.032634  0.012159  0.020512\n",
       "1003  0.962622  0.135020  0.032633  0.012159  0.020512\n",
       "\n",
       "[1004 rows x 5 columns]"
      ]
     },
     "execution_count": 44,
     "metadata": {},
     "output_type": "execute_result"
    }
   ],
   "source": [
    "result = pd.DataFrame(y); result"
   ]
  },
  {
   "cell_type": "markdown",
   "metadata": {},
   "source": [
    "### Reverting binary values to decimals"
   ]
  },
  {
   "cell_type": "code",
   "execution_count": 45,
   "metadata": {},
   "outputs": [
    {
     "data": {
      "text/plain": [
       "0_20      20.0\n",
       "20_40      5.0\n",
       "40_60      2.0\n",
       "60_80      1.0\n",
       "80_100     1.0\n",
       "dtype: float64"
      ]
     },
     "execution_count": 45,
     "metadata": {},
     "output_type": "execute_result"
    }
   ],
   "source": [
    "maxOccurrence = revert[10:15]; maxOccurrence"
   ]
  },
  {
   "cell_type": "code",
   "execution_count": 46,
   "metadata": {},
   "outputs": [
    {
     "data": {
      "text/html": [
       "<div>\n",
       "<style scoped>\n",
       "    .dataframe tbody tr th:only-of-type {\n",
       "        vertical-align: middle;\n",
       "    }\n",
       "\n",
       "    .dataframe tbody tr th {\n",
       "        vertical-align: top;\n",
       "    }\n",
       "\n",
       "    .dataframe thead th {\n",
       "        text-align: right;\n",
       "    }\n",
       "</style>\n",
       "<table border=\"1\" class=\"dataframe\">\n",
       "  <thead>\n",
       "    <tr style=\"text-align: right;\">\n",
       "      <th></th>\n",
       "      <th>0</th>\n",
       "      <th>1</th>\n",
       "      <th>2</th>\n",
       "      <th>3</th>\n",
       "      <th>4</th>\n",
       "    </tr>\n",
       "  </thead>\n",
       "  <tbody>\n",
       "    <tr>\n",
       "      <th>0</th>\n",
       "      <td>19.252441</td>\n",
       "      <td>0.675144</td>\n",
       "      <td>0.065267</td>\n",
       "      <td>0.012159</td>\n",
       "      <td>0.020513</td>\n",
       "    </tr>\n",
       "    <tr>\n",
       "      <th>1</th>\n",
       "      <td>19.252449</td>\n",
       "      <td>0.675102</td>\n",
       "      <td>0.065265</td>\n",
       "      <td>0.012159</td>\n",
       "      <td>0.020512</td>\n",
       "    </tr>\n",
       "    <tr>\n",
       "      <th>2</th>\n",
       "      <td>19.252443</td>\n",
       "      <td>0.675125</td>\n",
       "      <td>0.065266</td>\n",
       "      <td>0.012159</td>\n",
       "      <td>0.020512</td>\n",
       "    </tr>\n",
       "    <tr>\n",
       "      <th>3</th>\n",
       "      <td>19.252438</td>\n",
       "      <td>0.675151</td>\n",
       "      <td>0.065268</td>\n",
       "      <td>0.012159</td>\n",
       "      <td>0.020513</td>\n",
       "    </tr>\n",
       "    <tr>\n",
       "      <th>4</th>\n",
       "      <td>19.252445</td>\n",
       "      <td>0.675116</td>\n",
       "      <td>0.065266</td>\n",
       "      <td>0.012159</td>\n",
       "      <td>0.020512</td>\n",
       "    </tr>\n",
       "    <tr>\n",
       "      <th>...</th>\n",
       "      <td>...</td>\n",
       "      <td>...</td>\n",
       "      <td>...</td>\n",
       "      <td>...</td>\n",
       "      <td>...</td>\n",
       "    </tr>\n",
       "    <tr>\n",
       "      <th>999</th>\n",
       "      <td>19.252438</td>\n",
       "      <td>0.675150</td>\n",
       "      <td>0.065268</td>\n",
       "      <td>0.012159</td>\n",
       "      <td>0.020513</td>\n",
       "    </tr>\n",
       "    <tr>\n",
       "      <th>1000</th>\n",
       "      <td>19.252449</td>\n",
       "      <td>0.675095</td>\n",
       "      <td>0.065265</td>\n",
       "      <td>0.012159</td>\n",
       "      <td>0.020512</td>\n",
       "    </tr>\n",
       "    <tr>\n",
       "      <th>1001</th>\n",
       "      <td>19.252438</td>\n",
       "      <td>0.675145</td>\n",
       "      <td>0.065267</td>\n",
       "      <td>0.012159</td>\n",
       "      <td>0.020513</td>\n",
       "    </tr>\n",
       "    <tr>\n",
       "      <th>1002</th>\n",
       "      <td>19.252441</td>\n",
       "      <td>0.675140</td>\n",
       "      <td>0.065267</td>\n",
       "      <td>0.012159</td>\n",
       "      <td>0.020512</td>\n",
       "    </tr>\n",
       "    <tr>\n",
       "      <th>1003</th>\n",
       "      <td>19.252449</td>\n",
       "      <td>0.675102</td>\n",
       "      <td>0.065265</td>\n",
       "      <td>0.012159</td>\n",
       "      <td>0.020512</td>\n",
       "    </tr>\n",
       "  </tbody>\n",
       "</table>\n",
       "<p>1004 rows × 5 columns</p>\n",
       "</div>"
      ],
      "text/plain": [
       "              0         1         2         3         4\n",
       "0     19.252441  0.675144  0.065267  0.012159  0.020513\n",
       "1     19.252449  0.675102  0.065265  0.012159  0.020512\n",
       "2     19.252443  0.675125  0.065266  0.012159  0.020512\n",
       "3     19.252438  0.675151  0.065268  0.012159  0.020513\n",
       "4     19.252445  0.675116  0.065266  0.012159  0.020512\n",
       "...         ...       ...       ...       ...       ...\n",
       "999   19.252438  0.675150  0.065268  0.012159  0.020513\n",
       "1000  19.252449  0.675095  0.065265  0.012159  0.020512\n",
       "1001  19.252438  0.675145  0.065267  0.012159  0.020513\n",
       "1002  19.252441  0.675140  0.065267  0.012159  0.020512\n",
       "1003  19.252449  0.675102  0.065265  0.012159  0.020512\n",
       "\n",
       "[1004 rows x 5 columns]"
      ]
     },
     "execution_count": 46,
     "metadata": {},
     "output_type": "execute_result"
    }
   ],
   "source": [
    "speak = result.multiply(maxOccurrence.values);speak"
   ]
  },
  {
   "cell_type": "markdown",
   "metadata": {},
   "source": [
    "### Grouping data into occurrences for sum"
   ]
  },
  {
   "cell_type": "code",
   "execution_count": 47,
   "metadata": {},
   "outputs": [],
   "source": [
    "next_data = np.array(speak)\n",
    "count_groups = np.array([np.sum(((0<=next_data) & (next_data<20))*1, axis = -1),\n",
    "                         np.sum(((20<=next_data) & (next_data<40))*1, axis = -1),\n",
    "                         np.sum(((40<=next_data) & (next_data<60))*1, axis = -1),\n",
    "                         np.sum(((60<=next_data) & (next_data<80))*1, axis = -1),\n",
    "                         np.sum(((80<=next_data) & (next_data<100))*1, axis = -1)]).T"
   ]
  },
  {
   "cell_type": "markdown",
   "metadata": {},
   "source": [
    "### Forecasting next peaks based on grouping"
   ]
  },
  {
   "cell_type": "code",
   "execution_count": 48,
   "metadata": {},
   "outputs": [
    {
     "data": {
      "text/plain": [
       "array([5020,    0,    0,    0,    0])"
      ]
     },
     "execution_count": 48,
     "metadata": {},
     "output_type": "execute_result"
    }
   ],
   "source": [
    "count_groups.sum(axis=0)"
   ]
  },
  {
   "cell_type": "markdown",
   "metadata": {},
   "source": [
    "### Generating histogram of readings"
   ]
  },
  {
   "cell_type": "code",
   "execution_count": 49,
   "metadata": {},
   "outputs": [],
   "source": [
    "columns = ['0-20','20-40','40-60','60-80','80-100']\n",
    "peaks = pd.DataFrame(count_groups, columns = columns)"
   ]
  },
  {
   "cell_type": "code",
   "execution_count": 50,
   "metadata": {},
   "outputs": [
    {
     "data": {
      "text/plain": [
       "<matplotlib.axes._subplots.AxesSubplot at 0x7f99b84998d0>"
      ]
     },
     "execution_count": 50,
     "metadata": {},
     "output_type": "execute_result"
    },
    {
     "data": {
      "image/png": "[encoded data removed]",
      "text/plain": [
       "<Figure size 432x288 with 1 Axes>"
      ]
     },
     "metadata": {
      "needs_background": "light"
     },
     "output_type": "display_data"
    }
   ],
   "source": [
    "peaks.sum().plot(kind='bar', stacked=True)"
   ]
  }
 ],
 "metadata": {
  "kernelspec": {
   "display_name": "Python 3",
   "language": "python",
   "name": "python3"
  },
  "language_info": {
   "codemirror_mode": {
    "name": "ipython",
    "version": 3
   },
   "file_extension": ".py",
   "mimetype": "text/x-python",
   "name": "python",
   "nbconvert_exporter": "python",
   "pygments_lexer": "ipython3",
   "version": "3.7.6"
  }
 },
 "nbformat": 4,
 "nbformat_minor": 4
}
