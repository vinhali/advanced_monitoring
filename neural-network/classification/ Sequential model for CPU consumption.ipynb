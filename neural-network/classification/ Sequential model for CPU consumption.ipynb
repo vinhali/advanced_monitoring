{
 "cells": [
  {
   "cell_type": "code",
   "execution_count": 82,
   "metadata": {},
   "outputs": [],
   "source": [
    "# -*- coding: utf-8 -*-\n",
    "import operator\n",
    "import statistics\n",
    "import collections\n",
    "import pandas as pd\n",
    "import numpy as np\n",
    "import matplotlib.pyplot as plt\n",
    "import tensorflow as tf\n",
    "from tensorflow import keras\n",
    "from tensorflow.keras import layers"
   ]
  },
  {
   "cell_type": "code",
   "execution_count": 83,
   "metadata": {},
   "outputs": [],
   "source": [
    "data = pd.read_csv('/home/vinhali/Desktop/classification/data/data.csv')"
   ]
  },
  {
   "cell_type": "code",
   "execution_count": 84,
   "metadata": {},
   "outputs": [],
   "source": [
    "def histogramNeuronsInput(result):\n",
    "    \"\"\" Generates histogram of input neurons \"\"\"\n",
    "    fig, ax = plt.subplots(figsize=(10,6))\n",
    "    for i in range(len(result)):\n",
    "        data = np.array(result[i])\n",
    "        x=np.arange(len(data)) + i*6\n",
    "        # draw averages\n",
    "        ax.bar(x-0.2, data[:,0], color='C0', width=0.4)\n",
    "        # draw std\n",
    "        ax.bar(x+0.2, data[:,1], color='C1', width=0.4)\n",
    "        # separation line\n",
    "        #if i < len(result) - 1:\n",
    "            #ax.axvline(4.75 + i*6, color='black')\n",
    "    # turn off xticks\n",
    "    ax.set_xticks([])\n",
    "    ax.legend(labels=['Average', 'Standard deviation'])\n",
    "    leg = ax.get_legend()\n",
    "    leg.legendHandles[0].set_color('C0')\n",
    "    leg.legendHandles[1].set_color('C1')\n",
    "    plt.title(\"Histogram: Average versus Standard Deviation\")\n",
    "    plt.ylabel('Consume')\n",
    "    plt.xlabel('Number of elements (Every 5 is a new block)')\n",
    "\n",
    "    return plt.show()\n",
    "\n",
    "def histogramNeuronsOutput(result):\n",
    "    \"\"\" Generates histogram of output neurons \"\"\"\n",
    "    colors = ['blue', 'green', 'yellow', 'orange', 'red']\n",
    "    labels = ['0-20', '20-40', '40-60', '60-80', '80-100']\n",
    "    fig, ax = plt.subplots(figsize=(10, 6))\n",
    "    for i, data in enumerate(result):\n",
    "        x = np.arange(len(data)) + i*6\n",
    "        bars = ax.bar(x, data, color=colors, width=0.4)\n",
    "        if i == 0:\n",
    "            for bar, label in zip(bars, labels):\n",
    "                bar.set_label(label)\n",
    "        #if i < len(result) - 1:\n",
    "            # separation line after each part, but not after the last\n",
    "            #ax.axvline(4.75 + i*6, color='black')\n",
    "    ax.set_xticks([])\n",
    "    ax.legend()\n",
    "    ax.set_title(\"Histogram\")\n",
    "    ax.set_ylabel('Consume')\n",
    "    ax.set_xlabel('Percent')\n",
    "    plt.show()"
   ]
  },
  {
   "cell_type": "code",
   "execution_count": 85,
   "metadata": {},
   "outputs": [],
   "source": [
    "def standardDeviation(data):\n",
    "    \"\"\" Calculates standard deviation \"\"\"\n",
    "    return statistics.stdev(data)\n",
    "       \n",
    "def average(data):\n",
    "    \"\"\" Calculates average \"\"\"\n",
    "    return statistics.mean(data)\n",
    "\n",
    "def captureOcurrences(elements, n):\n",
    "    \"\"\" Capture an X number of elements within a list \"\"\"\n",
    "    L = len(elements)\n",
    "    return [elements[i: i+n] for i in range(0, L, n)]"
   ]
  },
  {
   "cell_type": "code",
   "execution_count": 86,
   "metadata": {},
   "outputs": [],
   "source": [
    "def neuronsInput(elements):\n",
    "    \"\"\" Generates input neuron modeling (5 averages, 5 standard deviations - Between 12 occurrences in a window of 60 readings) \"\"\"\n",
    "    result = []\n",
    "    temp = []\n",
    "    start = 0\n",
    "    limit = 60\n",
    "    size = int(len(elements))\n",
    "    TargetDivision = int(size / 30)\n",
    "    repetitions = 0\n",
    "    five = 0\n",
    "\n",
    "    while repetitions < TargetDivision:\n",
    "        temp = []\n",
    "\n",
    "        five += 1\n",
    "        ocurrences = captureOcurrences(elements[start: limit],12)\n",
    "        for i in ocurrences:\n",
    "            m = average(i)\n",
    "            sd = standardDeviation(i)\n",
    "            temp.append([m,sd])\n",
    "\n",
    "        result.append(temp)\n",
    "\n",
    "        repetitions += 1\n",
    "        limit += 10\n",
    "        start += 10\n",
    "\n",
    "    return result\n",
    "\n",
    "def neuronsOutput(elements):\n",
    "    \"\"\" Generates output neuron modeling (Histogram of the next 30 data readings) \"\"\"\n",
    "    result = []\n",
    "    start = 61\n",
    "    limit = 90\n",
    "    size = int(len(elements))\n",
    "    TargetDivision = int(size / 30)\n",
    "    repetitions = 0\n",
    "\n",
    "    while repetitions < TargetDivision:\n",
    "\n",
    "        counter=collections.Counter(elements[start: limit])\n",
    "        consumption0_20 = 0\n",
    "        consumption20_40 = 0\n",
    "        consumption40_60 = 0\n",
    "        consumption60_80 = 0\n",
    "        consumption80_100 = 0\n",
    "        for key in counter:\n",
    "            if key <= 20:\n",
    "                consumption0_20 += int(counter[key])\n",
    "            elif key > 20 and key < 40:\n",
    "                consumption20_40 += int(counter[key])\n",
    "            elif key > 40 and key < 60:\n",
    "                consumption40_60 += int(counter[key])\n",
    "            elif key > 60 and key < 80:\n",
    "                consumption60_80 += int(counter[key])\n",
    "            elif key > 80 and key < 100:\n",
    "                consumption80_100 += int(counter[key])\n",
    "\n",
    "        result.append([consumption0_20,consumption20_40,consumption40_60,consumption60_80,consumption80_100])\n",
    "\n",
    "        repetitions += 1\n",
    "        limit += 10\n",
    "        start += 10\n",
    "\n",
    "    return result"
   ]
  },
  {
   "cell_type": "code",
   "execution_count": 87,
   "metadata": {},
   "outputs": [],
   "source": [
    "def binaryInput(data):\n",
    "    \"\"\" I divided the values ​​of each column by the highest occurrence in the column \"\"\"\n",
    "    max_average = 0\n",
    "    max_deviation = 0\n",
    "    for j in range(len(data[0])):\n",
    "        for i in range(len(data)):\n",
    "            if data[i][j][0] > max_average:\n",
    "                max_average = data[i][j][0]\n",
    "            if data[i][j][1] > max_deviation:\n",
    "                max_deviation = data[i][j][1]\n",
    "        for p in range(len(data)):\n",
    "            if max_average != 0:\n",
    "                data[p][j][0] = round(data[p][j][0] / max_average, 3)\n",
    "            if max_deviation != 0:\n",
    "                data[p][j][1]  = round(data[p][j][1] / max_deviation, 3)\n",
    "        max_average = 0\n",
    "        max_deviation = 0\n",
    "    return data\n",
    "\n",
    "def binaryOutput(data):\n",
    "    \"\"\" I divided the values ​​of each column by the highest occurrence in the column \"\"\"\n",
    "    max_consume = 0\n",
    "    for j in range(len(data[0])):\n",
    "        for i in range(len(data)):\n",
    "            if data[i][j] > max_consume:\n",
    "                max_consume = data[i][j]\n",
    "        for p in range(len(data)):\n",
    "            if max_consume != 0:\n",
    "                data[p][j] = round(data[p][j] / max_consume, 3)\n",
    "        max_consume = 0\n",
    "    return data"
   ]
  },
  {
   "cell_type": "code",
   "execution_count": 88,
   "metadata": {},
   "outputs": [],
   "source": [
    "def conversionDataframe(dataNeuronInput,dataNeuronOutput):\n",
    "    \"\"\" Converts data to a dataframe pandas \"\"\"\n",
    "    ni = pd.DataFrame(data= dataNeuronInput)\n",
    "    ni.columns = ['m1,d1', 'm2,d2', 'm3,d3', 'm4,d4', 'm5,d5']\n",
    "\n",
    "    no = pd.DataFrame(data= dataNeuronOutput)\n",
    "    no.columns = ['0-20', '20-40', '40-60', '60-80', '80-100']\n",
    "\n",
    "    return pd.concat([ni, no], axis=1)"
   ]
  },
  {
   "cell_type": "code",
   "execution_count": 89,
   "metadata": {},
   "outputs": [],
   "source": [
    "def modeling(data):\n",
    "    \"\"\" Generates the initial model for training the neural network \"\"\"\n",
    "    readings = data.iloc[:, 1].values\n",
    "\n",
    "    dataNeuronInput = neuronsInput(readings)\n",
    "    dataNeuronOutput = neuronsOutput(readings)\n",
    "    dataFrameNoBinary = conversionDataframe(dataNeuronInput, dataNeuronOutput)\n",
    "    binaryNeuronInput = binaryInput(dataNeuronInput)\n",
    "    binaryNeuronOutput = binaryOutput(dataNeuronOutput)\n",
    "    dataFrameBinary = conversionDataframe(binaryNeuronInput, binaryNeuronOutput)\n",
    "\n",
    "    return dataFrameBinary"
   ]
  },
  {
   "cell_type": "markdown",
   "metadata": {},
   "source": [
    "### View histogram"
   ]
  },
  {
   "cell_type": "code",
   "execution_count": 90,
   "metadata": {},
   "outputs": [],
   "source": [
    "readings = data.iloc[:, 1].values"
   ]
  },
  {
   "cell_type": "code",
   "execution_count": 91,
   "metadata": {},
   "outputs": [
    {
     "data": {
      "image/png": "[encoded data removed]",
      "text/plain": [
       "<Figure size 720x432 with 1 Axes>"
      ]
     },
     "metadata": {
      "needs_background": "light"
     },
     "output_type": "display_data"
    }
   ],
   "source": [
    "dataNeuronInput = neuronsInput(readings)\n",
    "histogramNeuronsInput(dataNeuronInput)"
   ]
  },
  {
   "cell_type": "code",
   "execution_count": 92,
   "metadata": {},
   "outputs": [
    {
     "data": {
      "image/png": "[encoded data removed]",
      "text/plain": [
       "<Figure size 720x432 with 1 Axes>"
      ]
     },
     "metadata": {
      "needs_background": "light"
     },
     "output_type": "display_data"
    }
   ],
   "source": [
    "dataNeuronOutput = neuronsOutput(readings)\n",
    "histogramNeuronsOutput(dataNeuronOutput)"
   ]
  },
  {
   "cell_type": "markdown",
   "metadata": {},
   "source": [
    "### Execute script"
   ]
  },
  {
   "cell_type": "code",
   "execution_count": 93,
   "metadata": {},
   "outputs": [],
   "source": [
    "df = modeling(data)\n",
    "\n",
    "# only taking 'mi' and 'di' inputs for simplicity\n",
    "ndf = df.to_numpy()[:, :5]\n",
    "\n",
    "# ndf matrix contains python lists, it must be broken into floats\n",
    "temp = []\n",
    "for a in ndf:\n",
    "    for b in a:\n",
    "        temp.append(b)\n",
    "ndf = (np.array(temp)).reshape((48, 10))\n",
    "\n",
    "# Converting data matrix in such a form that we are given an input of i'th \n",
    "# time, and have to predict for (i+1)'th time\n",
    "X = np.array([ndf[i, :] for i in range(0, ndf.shape[0]-1)])\n",
    "y = np.array([ndf[i, :] for i in range(1, ndf.shape[0])])"
   ]
  },
  {
   "cell_type": "code",
   "execution_count": 94,
   "metadata": {},
   "outputs": [
    {
     "name": "stdout",
     "output_type": "stream",
     "text": [
      "[[0.573 0.699 0.412 0.224 0.696 0.512 0.326 0.314 0.79  0.685]\n",
      " [0.456 0.251 0.629 0.523 0.344 0.286 0.8   0.699 0.721 1.   ]\n",
      " [0.658 0.531 0.339 0.282 0.592 0.614 0.859 1.    0.365 0.283]\n",
      " [0.396 0.314 0.29  0.201 1.    1.    0.34  0.288 0.886 0.647]\n",
      " [0.379 0.315 1.    1.    0.302 0.248 0.929 0.655 0.328 0.308]\n",
      " [1.    1.    0.274 0.249 0.679 0.536 0.52  0.413 0.382 0.337]\n",
      " [0.657 0.898 0.324 0.244 0.796 0.565 0.336 0.337 0.594 0.48 ]\n",
      " [0.397 0.312 0.731 0.583 0.358 0.296 0.586 0.495 0.263 0.228]\n",
      " [0.792 0.589 0.343 0.296 0.472 0.434 0.278 0.227 0.432 0.316]\n",
      " [0.395 0.366 0.301 0.247 0.449 0.413 0.438 0.324 0.798 0.545]\n",
      " [0.411 0.347 0.436 0.417 0.373 0.276 0.78  0.565 0.399 0.274]\n",
      " [0.521 0.443 0.221 0.206 0.658 0.476 0.512 0.35  0.364 0.264]\n",
      " [0.277 0.271 0.364 0.264 0.729 0.477 0.325 0.265 0.544 0.447]\n",
      " [0.409 0.312 0.693 0.484 0.333 0.234 0.551 0.458 0.297 0.246]\n",
      " [0.728 0.487 0.332 0.233 0.439 0.403 0.309 0.245 0.327 0.231]\n",
      " [0.368 0.287 0.279 0.229 0.46  0.396 0.309 0.235 0.854 0.675]\n",
      " [0.342 0.283 0.454 0.397 0.268 0.203 0.888 0.685 0.208 0.117]\n",
      " [0.492 0.422 0.238 0.201 0.676 0.585 0.329 0.233 0.24  0.147]\n",
      " [0.311 0.272 0.389 0.468 0.567 0.433 0.21  0.145 0.561 0.435]\n",
      " [0.456 0.485 0.518 0.447 0.223 0.131 0.552 0.447 0.254 0.185]\n",
      " [0.689 0.597 0.23  0.126 0.386 0.392 0.363 0.2   0.276 0.211]\n",
      " [0.202 0.129 0.228 0.158 0.503 0.376 0.258 0.215 0.813 0.551]\n",
      " [0.248 0.173 0.493 0.379 0.232 0.187 0.804 0.571 0.295 0.223]\n",
      " [0.484 0.392 0.216 0.18  0.583 0.46  0.46  0.342 0.281 0.226]\n",
      " [0.255 0.215 0.311 0.288 0.658 0.444 0.248 0.227 0.582 0.523]\n",
      " [0.357 0.316 0.619 0.456 0.258 0.2   0.562 0.54  0.29  0.235]\n",
      " [0.71  0.49  0.246 0.199 0.45  0.473 0.314 0.237 0.343 0.235]\n",
      " [0.284 0.247 0.256 0.227 0.484 0.458 0.308 0.239 0.842 0.54 ]\n",
      " [0.316 0.272 0.476 0.46  0.268 0.206 0.835 0.56  0.296 0.168]\n",
      " [0.529 0.483 0.225 0.202 0.602 0.45  0.433 0.314 0.291 0.187]\n",
      " [0.288 0.273 0.324 0.247 0.647 0.45  0.256 0.182 0.743 0.572]\n",
      " [0.37  0.292 0.619 0.459 0.268 0.16  0.589 0.532 0.569 0.341]\n",
      " [0.688 0.479 0.266 0.158 0.451 0.47  0.579 0.344 0.426 0.234]\n",
      " [0.259 0.174 0.237 0.159 0.696 0.495 0.421 0.231 0.855 0.551]\n",
      " [0.261 0.193 0.67  0.502 0.375 0.197 0.714 0.511 0.566 0.401]\n",
      " [0.635 0.509 0.394 0.199 0.571 0.45  0.515 0.39  0.421 0.28 ]\n",
      " [0.419 0.231 0.36  0.232 0.648 0.499 0.405 0.28  0.551 0.452]\n",
      " [0.409 0.28  0.659 0.496 0.357 0.235 0.531 0.464 0.308 0.25 ]\n",
      " [0.741 0.5   0.343 0.238 0.414 0.41  0.324 0.247 0.531 0.438]\n",
      " [0.393 0.291 0.249 0.213 0.468 0.403 0.336 0.256 1.    0.588]\n",
      " [0.322 0.27  0.452 0.407 0.293 0.22  1.    0.612 0.346 0.247]\n",
      " [0.5   0.427 0.243 0.215 0.739 0.508 0.479 0.35  0.278 0.161]\n",
      " [0.307 0.285 0.469 0.399 0.678 0.449 0.248 0.159 0.801 0.708]\n",
      " [0.51  0.428 0.655 0.456 0.257 0.142 0.804 0.724 0.23  0.144]\n",
      " [0.726 0.47  0.245 0.14  0.501 0.618 0.44  0.299 0.276 0.17 ]\n",
      " [0.288 0.226 0.215 0.121 0.68  0.625 0.249 0.171 0.701 0.716]\n",
      " [0.229 0.148 0.683 0.624 0.222 0.146 0.687 0.732 0.296 0.184]]\n"
     ]
    }
   ],
   "source": [
    "print(X)"
   ]
  },
  {
   "cell_type": "code",
   "execution_count": 95,
   "metadata": {},
   "outputs": [
    {
     "name": "stdout",
     "output_type": "stream",
     "text": [
      "[[0.456 0.251 0.629 0.523 0.344 0.286 0.8   0.699 0.721 1.   ]\n",
      " [0.658 0.531 0.339 0.282 0.592 0.614 0.859 1.    0.365 0.283]\n",
      " [0.396 0.314 0.29  0.201 1.    1.    0.34  0.288 0.886 0.647]\n",
      " [0.379 0.315 1.    1.    0.302 0.248 0.929 0.655 0.328 0.308]\n",
      " [1.    1.    0.274 0.249 0.679 0.536 0.52  0.413 0.382 0.337]\n",
      " [0.657 0.898 0.324 0.244 0.796 0.565 0.336 0.337 0.594 0.48 ]\n",
      " [0.397 0.312 0.731 0.583 0.358 0.296 0.586 0.495 0.263 0.228]\n",
      " [0.792 0.589 0.343 0.296 0.472 0.434 0.278 0.227 0.432 0.316]\n",
      " [0.395 0.366 0.301 0.247 0.449 0.413 0.438 0.324 0.798 0.545]\n",
      " [0.411 0.347 0.436 0.417 0.373 0.276 0.78  0.565 0.399 0.274]\n",
      " [0.521 0.443 0.221 0.206 0.658 0.476 0.512 0.35  0.364 0.264]\n",
      " [0.277 0.271 0.364 0.264 0.729 0.477 0.325 0.265 0.544 0.447]\n",
      " [0.409 0.312 0.693 0.484 0.333 0.234 0.551 0.458 0.297 0.246]\n",
      " [0.728 0.487 0.332 0.233 0.439 0.403 0.309 0.245 0.327 0.231]\n",
      " [0.368 0.287 0.279 0.229 0.46  0.396 0.309 0.235 0.854 0.675]\n",
      " [0.342 0.283 0.454 0.397 0.268 0.203 0.888 0.685 0.208 0.117]\n",
      " [0.492 0.422 0.238 0.201 0.676 0.585 0.329 0.233 0.24  0.147]\n",
      " [0.311 0.272 0.389 0.468 0.567 0.433 0.21  0.145 0.561 0.435]\n",
      " [0.456 0.485 0.518 0.447 0.223 0.131 0.552 0.447 0.254 0.185]\n",
      " [0.689 0.597 0.23  0.126 0.386 0.392 0.363 0.2   0.276 0.211]\n",
      " [0.202 0.129 0.228 0.158 0.503 0.376 0.258 0.215 0.813 0.551]\n",
      " [0.248 0.173 0.493 0.379 0.232 0.187 0.804 0.571 0.295 0.223]\n",
      " [0.484 0.392 0.216 0.18  0.583 0.46  0.46  0.342 0.281 0.226]\n",
      " [0.255 0.215 0.311 0.288 0.658 0.444 0.248 0.227 0.582 0.523]\n",
      " [0.357 0.316 0.619 0.456 0.258 0.2   0.562 0.54  0.29  0.235]\n",
      " [0.71  0.49  0.246 0.199 0.45  0.473 0.314 0.237 0.343 0.235]\n",
      " [0.284 0.247 0.256 0.227 0.484 0.458 0.308 0.239 0.842 0.54 ]\n",
      " [0.316 0.272 0.476 0.46  0.268 0.206 0.835 0.56  0.296 0.168]\n",
      " [0.529 0.483 0.225 0.202 0.602 0.45  0.433 0.314 0.291 0.187]\n",
      " [0.288 0.273 0.324 0.247 0.647 0.45  0.256 0.182 0.743 0.572]\n",
      " [0.37  0.292 0.619 0.459 0.268 0.16  0.589 0.532 0.569 0.341]\n",
      " [0.688 0.479 0.266 0.158 0.451 0.47  0.579 0.344 0.426 0.234]\n",
      " [0.259 0.174 0.237 0.159 0.696 0.495 0.421 0.231 0.855 0.551]\n",
      " [0.261 0.193 0.67  0.502 0.375 0.197 0.714 0.511 0.566 0.401]\n",
      " [0.635 0.509 0.394 0.199 0.571 0.45  0.515 0.39  0.421 0.28 ]\n",
      " [0.419 0.231 0.36  0.232 0.648 0.499 0.405 0.28  0.551 0.452]\n",
      " [0.409 0.28  0.659 0.496 0.357 0.235 0.531 0.464 0.308 0.25 ]\n",
      " [0.741 0.5   0.343 0.238 0.414 0.41  0.324 0.247 0.531 0.438]\n",
      " [0.393 0.291 0.249 0.213 0.468 0.403 0.336 0.256 1.    0.588]\n",
      " [0.322 0.27  0.452 0.407 0.293 0.22  1.    0.612 0.346 0.247]\n",
      " [0.5   0.427 0.243 0.215 0.739 0.508 0.479 0.35  0.278 0.161]\n",
      " [0.307 0.285 0.469 0.399 0.678 0.449 0.248 0.159 0.801 0.708]\n",
      " [0.51  0.428 0.655 0.456 0.257 0.142 0.804 0.724 0.23  0.144]\n",
      " [0.726 0.47  0.245 0.14  0.501 0.618 0.44  0.299 0.276 0.17 ]\n",
      " [0.288 0.226 0.215 0.121 0.68  0.625 0.249 0.171 0.701 0.716]\n",
      " [0.229 0.148 0.683 0.624 0.222 0.146 0.687 0.732 0.296 0.184]\n",
      " [0.646 0.627 0.204 0.152 0.542 0.632 0.36  0.224 0.291 0.215]]\n"
     ]
    }
   ],
   "source": [
    "print(y)"
   ]
  },
  {
   "cell_type": "code",
   "execution_count": 96,
   "metadata": {},
   "outputs": [
    {
     "data": {
      "text/plain": [
       "((47, 10), (47, 10))"
      ]
     },
     "execution_count": 96,
     "metadata": {},
     "output_type": "execute_result"
    }
   ],
   "source": [
    "X.shape, y.shape"
   ]
  },
  {
   "cell_type": "code",
   "execution_count": 99,
   "metadata": {},
   "outputs": [
    {
     "name": "stdout",
     "output_type": "stream",
     "text": [
      "Model: \"sequential_15\"\n",
      "_________________________________________________________________\n",
      "Layer (type)                 Output Shape              Param #   \n",
      "=================================================================\n",
      "layer1 (Dense)               (None, 2)                 22        \n",
      "_________________________________________________________________\n",
      "layer2 (Dense)               (None, 3)                 9         \n",
      "_________________________________________________________________\n",
      "layer3 (Dense)               (None, 10)                40        \n",
      "=================================================================\n",
      "Total params: 71\n",
      "Trainable params: 71\n",
      "Non-trainable params: 0\n",
      "_________________________________________________________________\n"
     ]
    }
   ],
   "source": [
    "# Define Sequential model with 3 layers\n",
    "model = keras.Sequential(\n",
    "    [   \n",
    "        # First layer of a sequential model must contain a input_shape\n",
    "        # that defines the features\n",
    "        layers.Dense(2, activation=\"relu\", name=\"layer1\", input_shape=X.shape[1:]),\n",
    "        layers.Dense(3, activation=\"relu\", name=\"layer2\"),\n",
    "        # The last layer of a sequential model should be equal to the number of\n",
    "        # outputs, in this case : 5*2 = 10  (5 [mi, di] pairs)\n",
    "        layers.Dense(10, name=\"layer3\"),\n",
    "    ]\n",
    ")\n",
    "\n",
    "# Compile the model and define a loss function (loss function generates \n",
    "# penalty for a wrong output)\n",
    "model.compile(optimizer = 'Adam', loss = 'mse', metrics = ['mae'])\n",
    "#model.compile(loss='mse')\n",
    "# Check the architecture of the model (you may skip this line)\n",
    "model.summary()"
   ]
  },
  {
   "cell_type": "code",
   "execution_count": 100,
   "metadata": {
    "scrolled": false
   },
   "outputs": [
    {
     "name": "stdout",
     "output_type": "stream",
     "text": [
      "Epoch 1/10\n",
      "12/12 [==============================] - 0s 2ms/step - loss: 0.1848 - mae: 0.3744\n",
      "Epoch 2/10\n",
      "12/12 [==============================] - 0s 3ms/step - loss: 0.1655 - mae: 0.3447\n",
      "Epoch 3/10\n",
      "12/12 [==============================] - 0s 2ms/step - loss: 0.1472 - mae: 0.3135\n",
      "Epoch 4/10\n",
      "12/12 [==============================] - 0s 3ms/step - loss: 0.1302 - mae: 0.2849\n",
      "Epoch 5/10\n",
      "12/12 [==============================] - 0s 2ms/step - loss: 0.1149 - mae: 0.2612\n",
      "Epoch 6/10\n",
      "12/12 [==============================] - 0s 3ms/step - loss: 0.1028 - mae: 0.2445\n",
      "Epoch 7/10\n",
      "12/12 [==============================] - 0s 3ms/step - loss: 0.0933 - mae: 0.2333\n",
      "Epoch 8/10\n",
      "12/12 [==============================] - 0s 3ms/step - loss: 0.0850 - mae: 0.2233\n",
      "Epoch 9/10\n",
      "12/12 [==============================] - 0s 3ms/step - loss: 0.0779 - mae: 0.2142\n",
      "Epoch 10/10\n",
      "12/12 [==============================] - 0s 3ms/step - loss: 0.0718 - mae: 0.2056\n"
     ]
    },
    {
     "data": {
      "text/plain": [
       "<tensorflow.python.keras.callbacks.History at 0x7fcc14438d10>"
      ]
     },
     "execution_count": 100,
     "metadata": {},
     "output_type": "execute_result"
    }
   ],
   "source": [
    "# The training\n",
    "model.fit(X, y, batch_size=4, epochs=10)"
   ]
  },
  {
   "cell_type": "code",
   "execution_count": null,
   "metadata": {},
   "outputs": [],
   "source": []
  }
 ],
 "metadata": {
  "kernelspec": {
   "display_name": "Python 3",
   "language": "python",
   "name": "python3"
  },
  "language_info": {
   "codemirror_mode": {
    "name": "ipython",
    "version": 3
   },
   "file_extension": ".py",
   "mimetype": "text/x-python",
   "name": "python",
   "nbconvert_exporter": "python",
   "pygments_lexer": "ipython3",
   "version": "3.7.6"
  }
 },
 "nbformat": 4,
 "nbformat_minor": 4
}
